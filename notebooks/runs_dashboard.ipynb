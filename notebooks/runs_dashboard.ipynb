{
 "cells": [
  {
   "cell_type": "code",
   "execution_count": null,
   "metadata": {},
   "outputs": [],
   "source": [
    "import pandas as pd\n",
    "from efficient_probit_regression import settings"
   ]
  },
  {
   "cell_type": "code",
   "execution_count": null,
   "metadata": {},
   "outputs": [],
   "source": [
    "data_points = []\n",
    "for p in [1, 1.5, 2, 3, 5]:\n",
    "    if p == 1:\n",
    "        methods = [\"leverage\", \"lewis-fast\", \"logit\", \"uniform\"]\n",
    "    elif p == 2:\n",
    "        methods = [\"leverage\", \"leverage_online\", \"uniform\"]\n",
    "    else:\n",
    "        methods = [\"leverage\", \"uniform\"]\n",
    "\n",
    "    for cur_dataset_name in [\"covertype\", \"kddcup\", \"webspam\"]:\n",
    "        for cur_method in methods:\n",
    "            cur_df = pd.read_csv(settings.get_results_dir_p(p) / f\"{cur_dataset_name}_{cur_method}_p_{p}.csv\")\n",
    "            num_runs = cur_df[\"run\"].max()\n",
    "            data_points.append({\n",
    "                \"p\": p, \n",
    "                \"dataset\": cur_dataset_name, \n",
    "                \"method\": cur_method, \n",
    "                \"num_runs\": num_runs\n",
    "            })\n",
    "\n",
    "df = pd.DataFrame(data_points)\n",
    "df"
   ]
  }
 ],
 "metadata": {
  "interpreter": {
   "hash": "e0284716c2d9feae24d471a72af06f4ef95e7cd0d9511d4a7d509b7726f3ff9e"
  },
  "kernelspec": {
   "display_name": "Python 3.9.5 64-bit ('venv': venv)",
   "name": "python3"
  },
  "language_info": {
   "codemirror_mode": {
    "name": "ipython",
    "version": 3
   },
   "file_extension": ".py",
   "mimetype": "text/x-python",
   "name": "python",
   "nbconvert_exporter": "python",
   "pygments_lexer": "ipython3",
   "version": "3.9.5"
  },
  "orig_nbformat": 4
 },
 "nbformat": 4,
 "nbformat_minor": 2
}
