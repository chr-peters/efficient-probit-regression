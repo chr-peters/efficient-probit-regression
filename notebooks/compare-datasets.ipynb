{
 "cells": [
  {
   "cell_type": "code",
   "execution_count": null,
   "metadata": {},
   "outputs": [],
   "source": [
    "from efficient_probit_regression.datasets import Iris, Covertype, KDDCup, Webspam\n",
    "from efficient_probit_regression.sampling import compute_leverage_scores, leverage_score_sampling, uniform_sampling\n",
    "from efficient_probit_regression import settings\n",
    "\n",
    "from sklearn.decomposition import PCA\n",
    "\n",
    "import matplotlib.pyplot as plt\n",
    "\n",
    "import seaborn as sns\n",
    "\n",
    "import numpy as np\n",
    "import pandas as pd"
   ]
  },
  {
   "cell_type": "code",
   "execution_count": null,
   "metadata": {},
   "outputs": [],
   "source": [
    "# dataset = Iris()\n",
    "# dataset = Covertype()\n",
    "# dataset = KDDCup()\n",
    "dataset = Webspam()\n",
    "\n",
    "X = dataset.get_X()\n",
    "y = dataset.get_y()\n",
    "\n",
    "scores = compute_leverage_scores(X, p=2, fast_approx=False)"
   ]
  },
  {
   "cell_type": "code",
   "execution_count": null,
   "metadata": {},
   "outputs": [],
   "source": [
    "pca = PCA(n_components=2)\n",
    "X_new = pca.fit_transform(X)"
   ]
  },
  {
   "cell_type": "code",
   "execution_count": null,
   "metadata": {},
   "outputs": [],
   "source": [
    "sample_size = 500\n",
    "\n",
    "np.random.seed(1)\n",
    "\n",
    "X_leverage = X_new[np.random.choice(dataset.get_n(), size=sample_size, replace=False, p = scores / np.sum(scores))]\n",
    "X_uniform = X_new[np.random.choice(dataset.get_n(), size=sample_size, replace=False)]\n",
    "\n",
    "plot_df = pd.concat([\n",
    "    pd.DataFrame({\"X1\": X_leverage[:,0], \"X2\": X_leverage[:,1], \"method\": \"leverage\"}),\n",
    "    pd.DataFrame({\"X1\": X_uniform[:,0], \"X2\": X_uniform[:,1], \"method\": \"uniform\"}),\n",
    "], ignore_index=True)\n",
    "\n",
    "plot_df.head()"
   ]
  },
  {
   "cell_type": "code",
   "execution_count": null,
   "metadata": {},
   "outputs": [],
   "source": [
    "# use TeX for typesetting\n",
    "plt.rcParams[\"text.usetex\"] = True\n",
    "plt.rc(\"font\", size=15)\n",
    "\n",
    "fig, ax = plt.subplots()\n",
    "\n",
    "sns.scatterplot(data=plot_df, x=\"X1\", y=\"X2\", hue=\"method\", ax=ax)\n",
    "\n",
    "ax.set_xlabel(\"PC1\")\n",
    "ax.set_ylabel(\"PC2\")\n",
    "\n",
    "ax.set_title(f\"{dataset.get_name().capitalize()} PCA\")\n",
    "\n",
    "ax.legend(loc=\"upper right\", frameon=True, title=\"method\")\n",
    "\n",
    "filename = f\"{dataset.get_name()}_pca.pdf\"\n",
    "\n",
    "webspam_zoom = False\n",
    "if webspam_zoom:\n",
    "    ax.set_xlim(left=-0.5, right=2)\n",
    "    ax.set_ylim(bottom=-10, top=25)\n",
    "    ax.set_title(f\"Webspam PCA Zoomed\")\n",
    "    filename = \"webspam_pca_zoomed.pdf\"\n",
    "\n",
    "fig.savefig(settings.PLOTS_DIR / filename)\n",
    "\n",
    "fig.show()"
   ]
  }
 ],
 "metadata": {
  "interpreter": {
   "hash": "e0284716c2d9feae24d471a72af06f4ef95e7cd0d9511d4a7d509b7726f3ff9e"
  },
  "kernelspec": {
   "display_name": "Python 3.9.5 64-bit ('venv': venv)",
   "name": "python3"
  },
  "language_info": {
   "codemirror_mode": {
    "name": "ipython",
    "version": 3
   },
   "file_extension": ".py",
   "mimetype": "text/x-python",
   "name": "python",
   "nbconvert_exporter": "python",
   "pygments_lexer": "ipython3",
   "version": "3.9.5"
  },
  "orig_nbformat": 4
 },
 "nbformat": 4,
 "nbformat_minor": 2
}
