{
 "cells": [
  {
   "cell_type": "code",
   "execution_count": null,
   "metadata": {},
   "outputs": [],
   "source": [
    "from efficient_probit_regression import settings\n",
    "from efficient_probit_regression.datasets import BaseDataset, Covertype, KDDCup, Webspam\n",
    "\n",
    "import pandas as pd\n",
    "import plotly.graph_objects as go"
   ]
  },
  {
   "cell_type": "code",
   "execution_count": null,
   "metadata": {},
   "outputs": [],
   "source": [
    "def get_results_df(dataset: BaseDataset, methods):\n",
    "    df_list = []\n",
    "    \n",
    "    for method in methods:\n",
    "        df = (\n",
    "            pd.read_csv(settings.RESULTS_DIR / (dataset.get_name() + f\"_{method}.csv\"))\n",
    "            .filter(items=[\"ratio\", \"size\"])\n",
    "            .groupby([\"size\"], as_index=False)\n",
    "            .median()\n",
    "            .assign(method=method)\n",
    "        )\n",
    "        df_list.append(df)\n",
    "\n",
    "    return(pd.concat(df_list, ignore_index=True))\n",
    "\n",
    "def get_results_df_raw(dataset: BaseDataset, methods):\n",
    "    df_list = []\n",
    "    \n",
    "    for method in methods:\n",
    "        df = (\n",
    "            pd.read_csv(settings.RESULTS_DIR / (dataset.get_name() + f\"_{method}.csv\"))\n",
    "            .filter(items=[\"run\", \"ratio\", \"size\"])\n",
    "            .assign(method=method)\n",
    "        )\n",
    "        df_list.append(df)\n",
    "\n",
    "    return(pd.concat(df_list, ignore_index=True))"
   ]
  },
  {
   "cell_type": "code",
   "execution_count": null,
   "metadata": {},
   "outputs": [],
   "source": [
    "def make_report(dataset: BaseDataset, methods):\n",
    "    df_median = get_results_df(dataset, methods)\n",
    "    df_raw = get_results_df_raw(dataset, methods)\n",
    "\n",
    "    fig = go.Figure()\n",
    "\n",
    "    for method in methods:\n",
    "        fig.add_trace(go.Scatter(\n",
    "            x = df_raw.loc[df_raw[\"method\"]==method][\"size\"],\n",
    "            y = df_raw.loc[df_raw[\"method\"]==method][\"ratio\"],\n",
    "            name = method + \"_raw\",\n",
    "            mode=\"markers\"\n",
    "        ))\n",
    "        fig.add_trace(go.Scatter(\n",
    "            x = df_median.loc[df_median[\"method\"]==method][\"size\"],\n",
    "            y = df_median.loc[df_median[\"method\"]==method][\"ratio\"],\n",
    "            name = method + \"_median\",\n",
    "            mode=\"lines\"\n",
    "        ))\n",
    "\n",
    "    fig.update_xaxes(title_text=\"size\")\n",
    "    fig.update_yaxes(title_text=\"ratio\")\n",
    "    fig.update_layout(title=dataset.get_name())\n",
    "\n",
    "    fig.show()"
   ]
  },
  {
   "cell_type": "code",
   "execution_count": null,
   "metadata": {},
   "outputs": [],
   "source": [
    "make_report(Covertype(), methods = [\"uniform\", \"leverage\", \"leverage_online\"])"
   ]
  },
  {
   "cell_type": "code",
   "execution_count": null,
   "metadata": {},
   "outputs": [],
   "source": [
    "make_report(KDDCup(), methods = [\"uniform\", \"leverage\", \"leverage_online\"])"
   ]
  },
  {
   "cell_type": "code",
   "execution_count": null,
   "metadata": {},
   "outputs": [],
   "source": [
    "make_report(Webspam(), methods = [\"uniform\", \"leverage\", \"leverage_online\"])"
   ]
  }
 ],
 "metadata": {
  "interpreter": {
   "hash": "d3307380142bd0d9ee15157aa1da5ccdecd2dcad986e3fbaeb540e49b07ab888"
  },
  "kernelspec": {
   "display_name": "Python 3.9.5 64-bit ('venv': venv)",
   "name": "python3"
  },
  "language_info": {
   "codemirror_mode": {
    "name": "ipython",
    "version": 3
   },
   "file_extension": ".py",
   "mimetype": "text/x-python",
   "name": "python",
   "nbconvert_exporter": "python",
   "pygments_lexer": "ipython3",
   "version": "3.9.5"
  },
  "orig_nbformat": 4
 },
 "nbformat": 4,
 "nbformat_minor": 2
}