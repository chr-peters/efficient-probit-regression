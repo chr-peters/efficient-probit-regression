{
 "cells": [
  {
   "cell_type": "code",
   "execution_count": null,
   "source": [
    "from efficient_probit_regression import settings\n",
    "from efficient_probit_regression.datasets import BaseDataset, Covertype, KDDCup, Webspam\n",
    "import numpy as np\n",
    "\n",
    "import pandas as pd\n",
    "import plotly.graph_objects as go\n",
    "import plotly.express as px"
   ],
   "outputs": [],
   "metadata": {}
  },
  {
   "cell_type": "code",
   "execution_count": null,
   "source": [
    "def get_results_df(dataset: BaseDataset, methods, p):\n",
    "    df_list = []\n",
    "    \n",
    "    for method in methods:\n",
    "        df = (\n",
    "            pd.read_csv(settings.get_results_dir_p(p) / (dataset.get_name() + f\"_{method}_p_{p}.csv\"))\n",
    "            .filter(items=[\"ratio\", \"size\"])\n",
    "            .groupby([\"size\"], as_index=False)\n",
    "            .median()\n",
    "            .assign(method=method)\n",
    "        )\n",
    "        df_list.append(df)\n",
    "\n",
    "    return(pd.concat(df_list, ignore_index=True))\n",
    "\n",
    "def get_results_df_raw(dataset: BaseDataset, methods, p):\n",
    "    df_list = []\n",
    "    \n",
    "    for method in methods:\n",
    "        df = (\n",
    "            pd.read_csv(settings.get_results_dir_p(p) / (dataset.get_name() + f\"_{method}_p_{p}.csv\"))\n",
    "            .filter(items=[\"run\", \"ratio\", \"size\"])\n",
    "            .assign(method=method)\n",
    "        )\n",
    "        df_list.append(df)\n",
    "\n",
    "    return(pd.concat(df_list, ignore_index=True))"
   ],
   "outputs": [],
   "metadata": {}
  },
  {
   "cell_type": "code",
   "execution_count": null,
   "source": [
    "def make_report(dataset: BaseDataset, methods, p):\n",
    "    df_median = get_results_df(dataset, methods, p)\n",
    "    df_raw = get_results_df_raw(dataset, methods, p)\n",
    "\n",
    "    fig = go.Figure()\n",
    "\n",
    "    for color_index, method in enumerate(list(set(methods) - {\"sgd\"})):\n",
    "        fig.add_trace(go.Scatter(\n",
    "            x = df_raw.loc[df_raw[\"method\"]==method][\"size\"],\n",
    "            y = df_raw.loc[df_raw[\"method\"]==method][\"ratio\"],\n",
    "            name = method + \"_raw\",\n",
    "            mode=\"markers\",\n",
    "            marker_color = px.colors.qualitative.Plotly[color_index]\n",
    "        ))\n",
    "        fig.add_trace(go.Scatter(\n",
    "            x = df_median.loc[df_median[\"method\"]==method][\"size\"],\n",
    "            y = df_median.loc[df_median[\"method\"]==method][\"ratio\"],\n",
    "            name = method + \"_median\",\n",
    "            mode=\"lines\",\n",
    "            marker_color = px.colors.qualitative.Plotly[color_index]\n",
    "        ))\n",
    "\n",
    "    if \"sgd\" in methods:\n",
    "        median = df_median.loc[df_median[\"method\"] == \"sgd\"][\"ratio\"].to_numpy()[0]\n",
    "        fig.add_trace(go.Scatter(\n",
    "            x = [np.min(df_raw[\"size\"]), np.max(df_raw[\"size\"])],\n",
    "            y = [median, median],\n",
    "            name = \"sgd_median\",\n",
    "            mode=\"lines\",\n",
    "        ))\n",
    "\n",
    "    fig.update_xaxes(title_text=\"size\")\n",
    "    fig.update_yaxes(title_text=\"ratio\")\n",
    "    fig.update_layout(title=f\"{dataset.get_name()}, p={p}\")\n",
    "\n",
    "    # fig.write_html(f\"report_{dataset.get_name()}_p_{p}.html\")\n",
    "\n",
    "    fig.show()"
   ],
   "outputs": [],
   "metadata": {}
  },
  {
   "cell_type": "code",
   "execution_count": null,
   "source": [
    "make_report(Covertype(), methods = [\"uniform\", \"lewis\", \"leverage\", \"logit\", \"full_qr\"], p=1)"
   ],
   "outputs": [],
   "metadata": {}
  },
  {
   "cell_type": "code",
   "execution_count": null,
   "source": [
    "# make_report(KDDCup(), methods = [\"uniform\", \"leverage\", \"leverage_online\", \"sgd\"])"
   ],
   "outputs": [],
   "metadata": {}
  },
  {
   "cell_type": "code",
   "execution_count": null,
   "source": [
    "# make_report(Webspam(), methods = [\"uniform\", \"leverage\", \"leverage_online\", \"sgd\"])"
   ],
   "outputs": [],
   "metadata": {}
  }
 ],
 "metadata": {
  "interpreter": {
   "hash": "d3307380142bd0d9ee15157aa1da5ccdecd2dcad986e3fbaeb540e49b07ab888"
  },
  "kernelspec": {
   "name": "python3",
   "display_name": "Python 3.9.5 64-bit ('venv': venv)"
  },
  "language_info": {
   "codemirror_mode": {
    "name": "ipython",
    "version": 3
   },
   "file_extension": ".py",
   "mimetype": "text/x-python",
   "name": "python",
   "nbconvert_exporter": "python",
   "pygments_lexer": "ipython3",
   "version": "3.9.5"
  },
  "orig_nbformat": 4
 },
 "nbformat": 4,
 "nbformat_minor": 2
}