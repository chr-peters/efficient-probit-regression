{
 "cells": [
  {
   "cell_type": "code",
   "execution_count": null,
   "source": [
    "from efficient_probit_regression.probit_model import _g\n",
    "from efficient_probit_regression.datasets import Covertype, KDDCup, Webspam, Example2D\n",
    "from efficient_probit_regression import settings\n",
    "\n",
    "from sklearn.linear_model import LogisticRegression\n",
    "\n",
    "import plotly.express as px\n",
    "\n",
    "import numpy as np\n",
    "import pandas as pd\n",
    "\n",
    "from scipy import stats\n",
    "\n",
    "import seaborn as sns\n",
    "\n",
    "import matplotlib.pyplot as plt\n",
    "import matplotlib"
   ],
   "outputs": [],
   "metadata": {}
  },
  {
   "cell_type": "code",
   "execution_count": null,
   "source": [
    "# dataset = Covertype()\n",
    "# dataset = KDDCup()\n",
    "# dataset = Webspam()\n",
    "dataset = Example2D()\n",
    "\n",
    "X, y = dataset.get_X(), dataset.get_y()"
   ],
   "outputs": [],
   "metadata": {}
  },
  {
   "cell_type": "code",
   "execution_count": null,
   "source": [
    "logreg_model = LogisticRegression(penalty=\"none\", fit_intercept=False, max_iter=100000, tol=1e-10)\n",
    "logreg_model.fit(X, y)\n",
    "beta_logreg = logreg_model.coef_[0]"
   ],
   "outputs": [],
   "metadata": {}
  },
  {
   "cell_type": "code",
   "execution_count": null,
   "source": [
    "df_beta = pd.DataFrame()\n",
    "df_beta[\"beta-index\"] = range(X.shape[1])\n",
    "# df_beta[\"logistic\"] = beta_logreg\n",
    "df_beta[\"logistic\"] = beta_logreg / np.linalg.norm(beta_logreg)\n",
    "\n",
    "for p in [1]: #[1, 1.5, 2, 5]:\n",
    "    cur_beta = dataset.get_beta_opt(p)\n",
    "    # df_beta[f\"p={p}\"] = cur_beta\n",
    "    df_beta[f\"p={p}\"] = cur_beta / np.linalg.norm(cur_beta)\n",
    "\n",
    "df_beta_melted = df_beta.melt(id_vars=[\"beta-index\"], var_name=\"method\")\n",
    "\n",
    "# fig = px.line(df_beta, x=\"beta_index\", y=\"value\", color=\"method\", title=f\"{dataset.get_name().capitalize()} - Comparison of Normed Coefficients\")\n",
    "\n",
    "# fig.write_html(f\"{dataset.get_name()}-compare-p.html\")\n",
    "\n",
    "# fig.show()\n",
    "\n",
    "plt.rcParams[\"text.usetex\"] = True\n",
    "plt.rc(\"font\", size=15)\n",
    "\n",
    "fig, ax = plt.subplots()\n",
    "sns.lineplot(data=df_beta_melted, x=\"beta-index\", y=\"value\", hue=\"method\", ax=ax)\n",
    "\n",
    "ax.legend(title=\"Method\", labels=[\"logit\", \"1-probit\"])\n",
    "\n",
    "ax.set_title(f\"{dataset.get_name().capitalize()} - Comparison of Coefficients\", fontsize=23)\n",
    "\n",
    "ax.xaxis.set_major_locator(matplotlib.ticker.MaxNLocator(integer=True))\n",
    "\n",
    "fig.tight_layout()\n",
    "\n",
    "# plt.savefig(settings.PLOTS_DIR / f\"{dataset.get_name()}-compare-coefficients.pdf\")\n",
    "\n",
    "fig.show()"
   ],
   "outputs": [],
   "metadata": {}
  },
  {
   "cell_type": "code",
   "execution_count": null,
   "source": [
    "# df_beta.to_csv(f\"beta_{dataset.get_name()}.csv\", index=False)"
   ],
   "outputs": [],
   "metadata": {}
  }
 ],
 "metadata": {
  "orig_nbformat": 4,
  "language_info": {
   "name": "python",
   "version": "3.9.5",
   "mimetype": "text/x-python",
   "codemirror_mode": {
    "name": "ipython",
    "version": 3
   },
   "pygments_lexer": "ipython3",
   "nbconvert_exporter": "python",
   "file_extension": ".py"
  },
  "kernelspec": {
   "name": "python3",
   "display_name": "Python 3.9.5 64-bit ('venv': venv)"
  },
  "interpreter": {
   "hash": "d3307380142bd0d9ee15157aa1da5ccdecd2dcad986e3fbaeb540e49b07ab888"
  }
 },
 "nbformat": 4,
 "nbformat_minor": 2
}