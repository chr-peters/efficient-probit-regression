{
 "cells": [
  {
   "cell_type": "code",
   "execution_count": null,
   "metadata": {},
   "outputs": [],
   "source": [
    "import numpy as np\n",
    "import pandas as pd\n",
    "\n",
    "import seaborn as sns\n",
    "import matplotlib.pyplot as plt\n",
    "\n",
    "from efficient_probit_regression.datasets import BaseDataset, Iris, Covertype, Webspam, KDDCup\n",
    "from efficient_probit_regression.sampling import leverage_score_sampling\n",
    "from efficient_probit_regression.probit_model import PGeneralizedProbitModel\n",
    "from efficient_probit_regression import settings"
   ]
  },
  {
   "cell_type": "code",
   "execution_count": null,
   "metadata": {},
   "outputs": [],
   "source": [
    "def get_epsilon_and_beta_dist(k: int, p: int, dataset: BaseDataset):\n",
    "    full_model = PGeneralizedProbitModel(p=p, X=dataset.get_X(), y=dataset.get_y())\n",
    "    f = lambda beta: full_model.negative_log_likelihood(beta)\n",
    "\n",
    "    X_reduced, y_reduced, weights = leverage_score_sampling(\n",
    "        X = dataset.get_X(), \n",
    "        y = dataset.get_y(), \n",
    "        sample_size = k, \n",
    "        augmented = True, \n",
    "        online = False, \n",
    "        round_up = True, \n",
    "        p = p, \n",
    "        fast_approx=True\n",
    "    )\n",
    "    reduced_model = PGeneralizedProbitModel(p=p, X=X_reduced, y=y_reduced, w=weights)\n",
    "    reduced_model.fit()\n",
    "    beta_reduced = reduced_model.get_params()\n",
    "\n",
    "    beta_opt = dataset.get_beta_opt(p=p)\n",
    "\n",
    "    epsilon = np.abs(f(beta_reduced) - f(beta_opt)) / f(beta_opt)\n",
    "\n",
    "    beta_l2 = np.linalg.norm(beta_opt - beta_reduced, ord=2)\n",
    "    beta_inf = np.linalg.norm(beta_opt - beta_reduced, ord=np.inf)\n",
    "\n",
    "    return epsilon, beta_l2, beta_inf"
   ]
  },
  {
   "cell_type": "code",
   "execution_count": null,
   "metadata": {},
   "outputs": [],
   "source": [
    "# dataset = Webspam()\n",
    "dataset = Covertype()\n",
    "# dataset = KDDCup()\n",
    "# dataset = Iris()\n",
    "\n",
    "eps_min = 0.05\n",
    "eps_max = 0.1\n",
    "\n",
    "if dataset.get_name() == \"covertype\":\n",
    "    k_min = 500\n",
    "    k_max = 50000\n",
    "if dataset.get_name() == \"webspam\":\n",
    "    k_min = 500\n",
    "    k_max = 50000\n",
    "if dataset.get_name() == \"kddcup\":\n",
    "    k_min = 500\n",
    "    k_max = 50000\n",
    "if dataset.get_name() == \"iris\":\n",
    "    k_min = 20\n",
    "    k_max = 150"
   ]
  },
  {
   "cell_type": "code",
   "execution_count": null,
   "metadata": {},
   "outputs": [],
   "source": [
    "num_runs = 5\n",
    "\n",
    "verbose = True\n",
    "\n",
    "results_list = []\n",
    "# p_list = [1, 1.5, 2, 2.5, 3, 3.5, 4, 4.5, 5]\n",
    "p_list = [1, 1.5, 2, 3, 4, 5]\n",
    "for p in p_list:\n",
    "    for run in range(1, num_runs+1):\n",
    "        k_min_tmp = k_min\n",
    "        k_max_tmp = k_max\n",
    "        while k_max_tmp > k_min_tmp + 1:\n",
    "            k_new = int((k_max_tmp + k_min_tmp) / 2)\n",
    "            cur_eps, beta_l2, beta_inf = get_epsilon_and_beta_dist(k=k_new, p=p, dataset=dataset)\n",
    "            if verbose:\n",
    "                print(\"run\", run, \"p\", p, \"k_min_tmp\", k_min_tmp, \"k_max_tmp\", k_max_tmp, \"k_new\", k_new, \"cur_eps\", cur_eps, \"l2\", beta_l2, \"inf\", beta_inf)\n",
    "            if cur_eps >= eps_min and cur_eps <= eps_max:\n",
    "                if verbose:\n",
    "                    print(f\"Found! k = {k_new}\")\n",
    "                break\n",
    "            elif cur_eps <= eps_min:\n",
    "                k_max_tmp = k_new\n",
    "            else:\n",
    "                k_min_tmp = k_new\n",
    "        results_list.append({\"run\": run, \"p\": p, \"k\": k_new, \"beta_l2\": beta_l2, \"beta_inf\": beta_inf})\n",
    "\n",
    "print(results_list)"
   ]
  },
  {
   "cell_type": "code",
   "execution_count": null,
   "metadata": {},
   "outputs": [],
   "source": [
    "df = pd.DataFrame(results_list)\n",
    "\n",
    "filename = settings.RESULTS_DIR / f\"{dataset.get_name()}_results_eps.csv\"\n",
    "# df.to_csv(filename, index=False)\n",
    "\n",
    "df"
   ]
  },
  {
   "cell_type": "code",
   "execution_count": null,
   "metadata": {},
   "outputs": [],
   "source": [
    "filename = settings.RESULTS_DIR / f\"{dataset.get_name()}_results_eps.csv\"\n",
    "df = pd.read_csv(filename)\n",
    "df"
   ]
  },
  {
   "cell_type": "code",
   "execution_count": null,
   "metadata": {},
   "outputs": [],
   "source": [
    "p_list = [1, 2, 3, 4, 5]\n",
    "df = df.query(\"p in @p_list\")"
   ]
  },
  {
   "cell_type": "code",
   "execution_count": null,
   "metadata": {},
   "outputs": [],
   "source": [
    "plt.rcParams[\"text.usetex\"] = True\n",
    "plt.rcParams['text.latex.preamble'] = r'\\usepackage{amssymb}'\n",
    "plt.rc(\"font\", size=15)\n",
    "\n",
    "# sns.scatterplot(data=df, x=\"p\", y=\"k\")\n",
    "sns.lineplot(data=df, x=\"p\", y=\"k\", marker=\"o\", estimator=np.min, ci=None)\n",
    "# sns.boxplot(data=df, x=\"p\", y=\"k\")\n",
    "\n",
    "plt.ylabel(\"size\")\n",
    "plt.xlabel(\"$p$\")\n",
    "\n",
    "plt.title(f\"{dataset.get_name().capitalize()}, \" fr'$\\varepsilon \\in [{eps_min}, {eps_max}]$', size=23)\n",
    "\n",
    "plt.tight_layout()\n",
    "\n",
    "# plt.savefig(settings.PLOTS_DIR / f\"{dataset.get_name()}_plot_min_k_p_reduced.pdf\")\n",
    "plt.savefig(settings.PLOTS_DIR / \"plot_min_k_p_reduced.pdf\")\n",
    "\n",
    "plt.show()"
   ]
  },
  {
   "cell_type": "code",
   "execution_count": null,
   "metadata": {},
   "outputs": [],
   "source": [
    "sns.scatterplot(data=df.rename(columns={\"beta_l2\": \"l2\"}), x=\"p\", y=\"l2\")\n",
    "# plt.savefig(settings.PLOTS_DIR / \"l2.pdf\")"
   ]
  },
  {
   "cell_type": "code",
   "execution_count": null,
   "metadata": {},
   "outputs": [],
   "source": [
    "sns.scatterplot(data=df.rename(columns={\"beta_inf\": \"inf\"}), x=\"p\", y=\"inf\")\n",
    "# plt.savefig(settings.PLOTS_DIR / \"inf.pdf\")"
   ]
  },
  {
   "cell_type": "code",
   "execution_count": null,
   "metadata": {},
   "outputs": [],
   "source": [
    "plt.rcParams[\"text.usetex\"] = True\n",
    "plt.rcParams['text.latex.preamble'] = r'\\usepackage{amssymb}'\n",
    "plt.rc(\"font\", size=15)\n",
    "\n",
    "\n",
    "divisor = np.where(df[\"p\"] == 1, df[\"p\"], df[\"p\"] * np.log(df[\"p\"]))\n",
    "sns.lineplot(x=df[\"p\"], y=df[\"k\"] / divisor, marker=\"o\", ci=None, estimator=np.min)\n",
    "# sns.lineplot(x=df[\"p\"], y=df[\"k\"] / (np.power(df[\"p\"], 1.5)), marker=\"o\", ci=None, estimator=np.median)\n",
    "# sns.lineplot(x=df[\"p\"], y=df[\"k\"] / np.power(df[\"p\"], 2), marker=\"o\", ci=None, estimator=np.median)\n",
    "# sns.lineplot(x=df[\"p\"], y=df[\"k\"] / np.power(df[\"p\"], 3), marker=\"o\", ci=None, estimator=np.median)\n",
    "# sns.lineplot(x=df[\"p\"], y=df[\"k\"] / df[\"p\"], marker=\"o\", ci=None, estimator=np.median)\n",
    "\n",
    "plt.xlabel(\"$p$\")\n",
    "\n",
    "plt.ylabel(\"size / $(p \\log{p})$\")\n",
    "# plt.ylabel(\"size / $p^{1.5}$\")\n",
    "# plt.ylabel(\"size / $p^2$\")\n",
    "# plt.ylabel(\"size / $p^3$\")\n",
    "# plt.ylabel(\"size / $p$\")\n",
    "\n",
    "plt.title(f\"{dataset.get_name().capitalize()}, \" fr'$\\varepsilon \\in [{eps_min}, {eps_max}]$', size=23)\n",
    "\n",
    "plt.tight_layout()\n",
    "\n",
    "plt.savefig(settings.PLOTS_DIR / \"eps-p-log-p-adjusted.pdf\")\n",
    "# plt.savefig(settings.PLOTS_DIR / \"eps-p-1.5.pdf\")\n",
    "# plt.savefig(settings.PLOTS_DIR / \"eps-p-2.pdf\")\n",
    "# plt.savefig(settings.PLOTS_DIR / \"eps-p-3.pdf\")\n",
    "# plt.savefig(settings.PLOTS_DIR / \"eps-p.pdf\")"
   ]
  },
  {
   "cell_type": "code",
   "execution_count": null,
   "metadata": {},
   "outputs": [],
   "source": [
    "np.log(3)"
   ]
  }
 ],
 "metadata": {
  "interpreter": {
   "hash": "e0284716c2d9feae24d471a72af06f4ef95e7cd0d9511d4a7d509b7726f3ff9e"
  },
  "kernelspec": {
   "display_name": "Python 3.9.5 64-bit ('venv': venv)",
   "language": "python",
   "name": "python3"
  },
  "language_info": {
   "codemirror_mode": {
    "name": "ipython",
    "version": 3
   },
   "file_extension": ".py",
   "mimetype": "text/x-python",
   "name": "python",
   "nbconvert_exporter": "python",
   "pygments_lexer": "ipython3",
   "version": "3.9.5"
  },
  "orig_nbformat": 4
 },
 "nbformat": 4,
 "nbformat_minor": 2
}
