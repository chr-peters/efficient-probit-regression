{
 "cells": [
  {
   "cell_type": "code",
   "execution_count": null,
   "metadata": {},
   "outputs": [],
   "source": [
    "import numpy as np\n",
    "import pandas as pd\n",
    "\n",
    "import seaborn as sns\n",
    "import matplotlib.pyplot as plt\n",
    "\n",
    "from efficient_probit_regression.datasets import BaseDataset, Iris, Covertype, Webspam\n",
    "from efficient_probit_regression.sampling import leverage_score_sampling\n",
    "from efficient_probit_regression.probit_model import PGeneralizedProbitModel\n",
    "from efficient_probit_regression import settings"
   ]
  },
  {
   "cell_type": "code",
   "execution_count": null,
   "metadata": {},
   "outputs": [],
   "source": [
    "def get_epsilon(k: int, p: int, dataset: BaseDataset):\n",
    "    full_model = PGeneralizedProbitModel(p=p, X=dataset.get_X(), y=dataset.get_y())\n",
    "    f = lambda beta: full_model.negative_log_likelihood(beta)\n",
    "\n",
    "    X_reduced, y_reduced, weights = leverage_score_sampling(\n",
    "        X = dataset.get_X(), \n",
    "        y = dataset.get_y(), \n",
    "        sample_size = k, \n",
    "        augmented = True, \n",
    "        online = False, \n",
    "        round_up = True, \n",
    "        p = p, \n",
    "        fast_approx=True\n",
    "    )\n",
    "    reduced_model = PGeneralizedProbitModel(p=p, X=X_reduced, y=y_reduced, w=weights)\n",
    "    reduced_model.fit()\n",
    "    beta_reduced = reduced_model.get_params()\n",
    "\n",
    "    beta_opt = dataset.get_beta_opt(p=p)\n",
    "\n",
    "    epsilon = np.abs(f(beta_reduced) - f(beta_opt)) / f(beta_opt)\n",
    "\n",
    "    return epsilon"
   ]
  },
  {
   "cell_type": "code",
   "execution_count": null,
   "metadata": {},
   "outputs": [],
   "source": [
    "dataset = Webspam()\n",
    "\n",
    "eps_min = 0.05\n",
    "eps_max = 0.10\n",
    "\n",
    "if dataset.get_name() == \"covertype\":\n",
    "    k_min = 500\n",
    "    k_max = 20000\n",
    "if dataset.get_name() == \"webspam\":\n",
    "    k_min = 500\n",
    "    k_max = 50000"
   ]
  },
  {
   "cell_type": "code",
   "execution_count": null,
   "metadata": {},
   "outputs": [],
   "source": [
    "num_runs = 1\n",
    "\n",
    "verbose = True\n",
    "\n",
    "results_list = []\n",
    "for p in [1, 1.5, 2, 3, 4, 5]:\n",
    "    for run in range(1, num_runs+1):\n",
    "        k_min_tmp = k_min\n",
    "        k_max_tmp = k_max\n",
    "        while k_max_tmp > k_min_tmp + 1:\n",
    "            k_new = int((k_max_tmp + k_min_tmp) / 2)\n",
    "            cur_eps = get_epsilon(k=k_new, p=p, dataset=dataset)\n",
    "            if verbose:\n",
    "                print(\"p\", p, \"k_min_tmp\", k_min_tmp, \"k_max_tmp\", k_max_tmp, \"k_new\", k_new, \"cur_eps\", cur_eps)\n",
    "            if cur_eps >= eps_min and cur_eps <= eps_max:\n",
    "                if verbose:\n",
    "                    print(f\"Found! k = {k_new}\")\n",
    "                break\n",
    "            elif cur_eps <= eps_min:\n",
    "                k_max_tmp = k_new\n",
    "            else:\n",
    "                k_min_tmp = k_new\n",
    "        k_final = int((k_max_tmp + k_min_tmp) / 2)\n",
    "        results_list.append({\"run\": run, \"p\": p, \"k\": k_final})\n",
    "\n",
    "print(results_list)"
   ]
  },
  {
   "cell_type": "code",
   "execution_count": null,
   "metadata": {},
   "outputs": [],
   "source": [
    "df = pd.DataFrame(results_list)\n",
    "\n",
    "filename = settings.RESULTS_DIR / f\"{dataset.get_name()}_results_eps.csv\"\n",
    "df.to_csv(filename, index=False)\n",
    "\n",
    "df"
   ]
  },
  {
   "cell_type": "code",
   "execution_count": null,
   "metadata": {},
   "outputs": [],
   "source": [
    "plt.rcParams[\"text.usetex\"] = True\n",
    "plt.rcParams['text.latex.preamble'] = r'\\usepackage{amssymb}'\n",
    "plt.rc(\"font\", size=15)\n",
    "\n",
    "sns.lineplot(data=df, x=\"p\", y=\"k\", marker=\"o\")\n",
    "\n",
    "plt.ylabel(\"size\")\n",
    "plt.xlabel(\"$p$\")\n",
    "\n",
    "plt.title(f\"{dataset.get_name().capitalize()}, \" fr'$\\varepsilon \\in [{eps_min}, {eps_max}]$', size=23)\n",
    "\n",
    "plt.tight_layout()\n",
    "\n",
    "# plt.savefig(settings.PLOTS_DIR / f\"{dataset.get_name()}_eps_plot.pdf\")\n",
    "\n",
    "plt.show()"
   ]
  }
 ],
 "metadata": {
  "interpreter": {
   "hash": "e0284716c2d9feae24d471a72af06f4ef95e7cd0d9511d4a7d509b7726f3ff9e"
  },
  "kernelspec": {
   "display_name": "Python 3.9.5 64-bit ('venv': venv)",
   "language": "python",
   "name": "python3"
  },
  "language_info": {
   "codemirror_mode": {
    "name": "ipython",
    "version": 3
   },
   "file_extension": ".py",
   "mimetype": "text/x-python",
   "name": "python",
   "nbconvert_exporter": "python",
   "pygments_lexer": "ipython3",
   "version": "3.9.5"
  },
  "orig_nbformat": 4
 },
 "nbformat": 4,
 "nbformat_minor": 2
}
