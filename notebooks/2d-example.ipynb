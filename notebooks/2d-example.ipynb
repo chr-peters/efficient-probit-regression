{
 "cells": [
  {
   "cell_type": "code",
   "execution_count": null,
   "source": [
    "import matplotlib.pyplot as plt\n",
    "\n",
    "import seaborn as sns\n",
    "\n",
    "from sklearn.datasets import make_blobs\n",
    "\n",
    "import pandas as pd\n",
    "\n",
    "import numpy as np\n",
    "\n",
    "from efficient_probit_regression.probit_model import PGeneralizedProbitModel\n",
    "from efficient_probit_regression import settings"
   ],
   "outputs": [],
   "metadata": {}
  },
  {
   "cell_type": "code",
   "execution_count": null,
   "source": [
    "def get_line_y(x: np.ndarray, beta: np.ndarray):\n",
    "    y = -beta[1] / beta[2] * x - beta[0] / beta[2]\n",
    "    return y\n",
    "\n",
    "def get_lines_df(data_X: np.ndarray, data_y: np.ndarray, p_list: list, x_min=-5, x_max=5):\n",
    "    X_intercept = np.hstack((np.ones((X.shape[0], 1)), X))\n",
    "    y_pm = 2*y - 1\n",
    "\n",
    "    x = np.arange(x_min, x_max, 0.01)\n",
    "    df_list = []\n",
    "    for p in p_list:\n",
    "        model = PGeneralizedProbitModel(p=p, X=X_intercept, y=y_pm)\n",
    "        model.fit()\n",
    "        beta = model.get_params()\n",
    "        line_y = get_line_y(x, beta)\n",
    "        cur_df = pd.DataFrame(columns=[\"x1\", \"x2\", \"p\"])\n",
    "        cur_df[\"x1\"] = x\n",
    "        cur_df[\"x2\"] = line_y\n",
    "        cur_df[\"p\"] = p\n",
    "        df_list.append(cur_df)\n",
    "\n",
    "    return pd.concat(df_list, ignore_index=True)"
   ],
   "outputs": [],
   "metadata": {}
  },
  {
   "cell_type": "code",
   "execution_count": null,
   "source": [
    "centers = np.array([\n",
    "    [-1, -1], \n",
    "    [1, 1],\n",
    "    [6.5, 4]]\n",
    ")\n",
    "X, y = make_blobs(n_samples=[80, 80, 5], n_features=2, centers=centers, cluster_std=[1, 1, 0.5], random_state=1)\n",
    "df = pd.DataFrame(X, columns=[\"x1\", \"x2\"])\n",
    "y = np.where(y==2, 0, y)\n",
    "df[\"y\"] = y\n",
    "\n",
    "lines_df = get_lines_df(X, y, p_list = [1, 1.5, 2, 3, 5])\n",
    "\n",
    "# use TeX for typesetting\n",
    "plt.rcParams[\"text.usetex\"] = True\n",
    "plt.rc(\"font\", size=15)\n",
    "\n",
    "fig, ax = plt.subplots()\n",
    "sns.scatterplot(data=df, x=\"x1\", y=\"x2\", hue=\"y\", legend=False, ax=ax)\n",
    "\n",
    "sns.lineplot(data=lines_df, x=\"x1\", y=\"x2\", hue=\"p\", ax=ax, palette=\"flare\")\n",
    "\n",
    "ax.legend(loc=\"lower right\", title=\"p\")\n",
    "ax.set_xlabel(\"$x_1$\")\n",
    "ax.set_ylabel(\"$x_2$\")\n",
    "\n",
    "ax.set_title(\"Multiple values of p\", fontsize=23)\n",
    "\n",
    "fig.tight_layout()\n",
    "\n",
    "plt.savefig(settings.PLOTS_DIR / \"2d-example.pdf\")\n",
    "\n",
    "fig.show()"
   ],
   "outputs": [],
   "metadata": {}
  }
 ],
 "metadata": {
  "orig_nbformat": 4,
  "language_info": {
   "name": "python",
   "version": "3.9.5",
   "mimetype": "text/x-python",
   "codemirror_mode": {
    "name": "ipython",
    "version": 3
   },
   "pygments_lexer": "ipython3",
   "nbconvert_exporter": "python",
   "file_extension": ".py"
  },
  "kernelspec": {
   "name": "python3",
   "display_name": "Python 3.9.5 64-bit ('venv': venv)"
  },
  "interpreter": {
   "hash": "d3307380142bd0d9ee15157aa1da5ccdecd2dcad986e3fbaeb540e49b07ab888"
  }
 },
 "nbformat": 4,
 "nbformat_minor": 2
}