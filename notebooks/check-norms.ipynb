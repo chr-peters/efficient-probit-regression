{
 "cells": [
  {
   "cell_type": "code",
   "execution_count": null,
   "metadata": {},
   "outputs": [],
   "source": [
    "from efficient_probit_regression.probit_model import PGeneralizedProbitModel\n",
    "from efficient_probit_regression.sampling import leverage_score_sampling\n",
    "from efficient_probit_regression.datasets import Covertype\n",
    "from efficient_probit_regression import settings\n",
    "\n",
    "import numpy as np\n",
    "import pandas as pd\n",
    "import seaborn as sns\n",
    "import matplotlib.pyplot as plt"
   ]
  },
  {
   "cell_type": "code",
   "execution_count": null,
   "metadata": {},
   "outputs": [],
   "source": [
    "dataset = Covertype()\n",
    "p = 2\n",
    "\n",
    "beta_opt = dataset.get_beta_opt(p=p)\n",
    "\n",
    "X_reduced, y_reduced, weights = leverage_score_sampling(\n",
    "    X = dataset.get_X(), \n",
    "    y = dataset.get_y(), \n",
    "    sample_size = 15000, \n",
    "    augmented = True, \n",
    "    online = False, \n",
    "    round_up = True, \n",
    "    p = p,\n",
    "    fast_approx= True,\n",
    ")\n",
    "\n",
    "model = PGeneralizedProbitModel(p=p, X=X_reduced, y=y_reduced, w=weights)\n",
    "model.fit()\n",
    "\n",
    "beta_reduced = model.get_params()"
   ]
  },
  {
   "cell_type": "code",
   "execution_count": null,
   "metadata": {},
   "outputs": [],
   "source": [
    "df = pd.DataFrame({\"beta_opt\": beta_opt, \"beta_reduced\": beta_reduced}).assign(index = range(len(beta_opt))).melt(id_vars=\"index\", var_name=\"beta\")\n",
    "df.head()"
   ]
  },
  {
   "cell_type": "code",
   "execution_count": null,
   "metadata": {},
   "outputs": [],
   "source": [
    "sns.lineplot(data=df, x=\"index\", y=\"value\", hue=\"beta\")\n",
    "plt.title(\"Covertype, size = 15000\")\n",
    "plt.savefig(settings.PLOTS_DIR / \"compare_beta.pdf\")"
   ]
  },
  {
   "cell_type": "code",
   "execution_count": null,
   "metadata": {},
   "outputs": [],
   "source": [
    "np.linalg.norm(beta_reduced - beta_opt, ord=2)"
   ]
  },
  {
   "cell_type": "code",
   "execution_count": null,
   "metadata": {},
   "outputs": [],
   "source": [
    "np.linalg.norm(beta_reduced - beta_opt, ord=np.inf)"
   ]
  },
  {
   "cell_type": "code",
   "execution_count": null,
   "metadata": {},
   "outputs": [],
   "source": [
    "model_opt = PGeneralizedProbitModel(p=p, X=dataset.get_X(), y=dataset.get_y())\n",
    "f = lambda beta: model_opt.negative_log_likelihood(beta)"
   ]
  },
  {
   "cell_type": "code",
   "execution_count": null,
   "metadata": {},
   "outputs": [],
   "source": [
    "np.abs(f(beta_opt) - f(beta_reduced)) / f(beta_opt)"
   ]
  }
 ],
 "metadata": {
  "interpreter": {
   "hash": "e0284716c2d9feae24d471a72af06f4ef95e7cd0d9511d4a7d509b7726f3ff9e"
  },
  "kernelspec": {
   "display_name": "Python 3.9.5 64-bit ('venv': venv)",
   "language": "python",
   "name": "python3"
  },
  "language_info": {
   "codemirror_mode": {
    "name": "ipython",
    "version": 3
   },
   "file_extension": ".py",
   "mimetype": "text/x-python",
   "name": "python",
   "nbconvert_exporter": "python",
   "pygments_lexer": "ipython3",
   "version": "3.9.5"
  },
  "orig_nbformat": 4
 },
 "nbformat": 4,
 "nbformat_minor": 2
}
