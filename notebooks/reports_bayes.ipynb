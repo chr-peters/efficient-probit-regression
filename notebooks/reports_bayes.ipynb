{
 "cells": [
  {
   "cell_type": "code",
   "execution_count": null,
   "source": [
    "import pandas as pd\n",
    "from efficient_probit_regression.datasets import BaseDataset, Covertype\n",
    "from efficient_probit_regression import settings\n",
    "\n",
    "import plotly.graph_objects as go\n",
    "import plotly.express as px"
   ],
   "outputs": [],
   "metadata": {}
  },
  {
   "cell_type": "code",
   "execution_count": null,
   "source": [
    "def make_report(dataset: BaseDataset, methods = [\"uniform\", \"leverage\", \"leverage_online\"], measure_type=\"mmd\"):\n",
    "    \"\"\"\n",
    "    measure_type can be mmd or norm\n",
    "    \"\"\"\n",
    "    df_list = []\n",
    "    for cur_method in methods:\n",
    "        cur_df = pd.read_csv(settings.RESULTS_DIR_BAYES / f\"{dataset.get_name()}_{measure_type}_{cur_method}.csv\")\n",
    "        cur_df[\"method\"] = cur_method\n",
    "        df_list.append(cur_df)\n",
    "\n",
    "    df = pd.concat(df_list, ignore_index = True)\n",
    "\n",
    "    df_median = df.groupby([\"size\", \"method\"], as_index=False).median()\n",
    "\n",
    "    fig = go.Figure()\n",
    "\n",
    "    for color_index, cur_method in enumerate(methods):\n",
    "        fig.add_trace(go.Scatter(\n",
    "            x = df.loc[df[\"method\"] == cur_method][\"size\"],\n",
    "            y = df.loc[df[\"method\"] == cur_method][measure_type],\n",
    "            name = cur_method + \"_points\",\n",
    "            mode = \"markers\",\n",
    "            marker_color = px.colors.qualitative.Plotly[color_index]\n",
    "        ))\n",
    "\n",
    "        fig.add_trace(go.Scatter(\n",
    "            x = df_median.loc[df_median[\"method\"] == cur_method][\"size\"],\n",
    "            y = df_median.loc[df_median[\"method\"] == cur_method][measure_type],\n",
    "            name = cur_method + \"_median\",\n",
    "            mode = \"lines\",\n",
    "            marker_color = px.colors.qualitative.Plotly[color_index]\n",
    "        ))\n",
    "\n",
    "    axis_titles = {\n",
    "        \"mmd\": \"mmd\", \n",
    "        \"norm\": \"mean difference\"\n",
    "    }\n",
    "\n",
    "    fig.update_xaxes(title_text=\"size\")\n",
    "    fig.update_yaxes(title_text=axis_titles[measure_type])\n",
    "    fig.update_layout(title=dataset.get_name() + \" - \" + axis_titles[measure_type])\n",
    "\n",
    "    # fig.write_html(f\"report_{measure_type}.html\")\n",
    "\n",
    "    fig.show()"
   ],
   "outputs": [],
   "metadata": {}
  },
  {
   "cell_type": "code",
   "execution_count": null,
   "source": [
    "make_report(Covertype(), methods = [\"uniform\", \"leverage\", \"leverage_online\"], measure_type=\"mmd\")"
   ],
   "outputs": [],
   "metadata": {}
  },
  {
   "cell_type": "code",
   "execution_count": null,
   "source": [
    "make_report(Covertype(), methods = [\"uniform\", \"leverage\", \"leverage_online\"], measure_type=\"norm\")"
   ],
   "outputs": [],
   "metadata": {}
  }
 ],
 "metadata": {
  "orig_nbformat": 4,
  "language_info": {
   "name": "python",
   "version": "3.9.5",
   "mimetype": "text/x-python",
   "codemirror_mode": {
    "name": "ipython",
    "version": 3
   },
   "pygments_lexer": "ipython3",
   "nbconvert_exporter": "python",
   "file_extension": ".py"
  },
  "kernelspec": {
   "name": "python3",
   "display_name": "Python 3.9.5 64-bit ('venv': venv)"
  },
  "interpreter": {
   "hash": "d3307380142bd0d9ee15157aa1da5ccdecd2dcad986e3fbaeb540e49b07ab888"
  }
 },
 "nbformat": 4,
 "nbformat_minor": 2
}