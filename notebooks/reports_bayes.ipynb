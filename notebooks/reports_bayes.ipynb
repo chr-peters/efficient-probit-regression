{
 "cells": [
  {
   "cell_type": "code",
   "execution_count": null,
   "metadata": {},
   "outputs": [],
   "source": [
    "import pandas as pd\n",
    "from efficient_probit_regression.datasets import BaseDataset, Covertype\n",
    "from efficient_probit_regression import settings\n",
    "\n",
    "import plotly.graph_objects as go\n",
    "import plotly.express as px"
   ]
  },
  {
   "cell_type": "code",
   "execution_count": null,
   "metadata": {},
   "outputs": [],
   "source": [
    "def make_report(dataset: BaseDataset, methods = [\"uniform\", \"leverage\", \"leverage_online\"], measure_type=\"mmd\"):\n",
    "    \"\"\"\n",
    "    measure_type can be mmd, norm, or matrix_norm\n",
    "    \"\"\"\n",
    "    df_list = []\n",
    "    for cur_method in methods:\n",
    "        cur_df = pd.read_csv(settings.RESULTS_DIR_BAYES / f\"{dataset.get_name()}_{measure_type}_{cur_method}.csv\")\n",
    "        cur_df[\"method\"] = cur_method\n",
    "        df_list.append(cur_df)\n",
    "\n",
    "    df = pd.concat(df_list, ignore_index = True)\n",
    "\n",
    "    df_median = df.groupby([\"size\", \"method\"], as_index=False).median()\n",
    "\n",
    "    fig = go.Figure()\n",
    "\n",
    "    for color_index, cur_method in enumerate(methods):\n",
    "        fig.add_trace(go.Scatter(\n",
    "            x = df.loc[df[\"method\"] == cur_method][\"size\"],\n",
    "            y = df.loc[df[\"method\"] == cur_method][measure_type],\n",
    "            name = cur_method + \"_points\",\n",
    "            mode = \"markers\",\n",
    "            marker_color = px.colors.qualitative.Plotly[color_index]\n",
    "        ))\n",
    "\n",
    "        fig.add_trace(go.Scatter(\n",
    "            x = df_median.loc[df_median[\"method\"] == cur_method][\"size\"],\n",
    "            y = df_median.loc[df_median[\"method\"] == cur_method][measure_type],\n",
    "            name = cur_method + \"_median\",\n",
    "            mode = \"lines\",\n",
    "            marker_color = px.colors.qualitative.Plotly[color_index]\n",
    "        ))\n",
    "\n",
    "    axis_titles = {\n",
    "        \"mmd\": \"mmd\", \n",
    "        \"norm\": \"mean difference\",\n",
    "        \"matrix_norm\": \"L2 matrix norm\"\n",
    "    }\n",
    "\n",
    "    fig.update_xaxes(title_text=\"size\")\n",
    "    fig.update_yaxes(title_text=axis_titles[measure_type])\n",
    "    fig.update_layout(title=dataset.get_name() + \" - \" + axis_titles[measure_type])\n",
    "\n",
    "    # fig.write_html(f\"report_{measure_type}.html\")\n",
    "\n",
    "    fig.show()"
   ]
  },
  {
   "cell_type": "code",
   "execution_count": null,
   "metadata": {},
   "outputs": [],
   "source": [
    "make_report(Covertype(), methods = [\"uniform\", \"leverage\", \"leverage_online\"], measure_type=\"mmd\")"
   ]
  },
  {
   "cell_type": "code",
   "execution_count": null,
   "metadata": {},
   "outputs": [],
   "source": [
    "make_report(Covertype(), methods = [\"uniform\", \"leverage\", \"leverage_online\"], measure_type=\"norm\")"
   ]
  },
  {
   "cell_type": "code",
   "execution_count": null,
   "metadata": {},
   "outputs": [],
   "source": [
    "make_report(Covertype(), methods = [\"uniform\", \"leverage\", \"leverage_online\"], measure_type=\"matrix_norm\")"
   ]
  }
 ],
 "metadata": {
  "interpreter": {
   "hash": "e0284716c2d9feae24d471a72af06f4ef95e7cd0d9511d4a7d509b7726f3ff9e"
  },
  "kernelspec": {
   "display_name": "Python 3.9.5 64-bit ('venv': venv)",
   "name": "python3"
  },
  "language_info": {
   "codemirror_mode": {
    "name": "ipython",
    "version": 3
   },
   "file_extension": ".py",
   "mimetype": "text/x-python",
   "name": "python",
   "nbconvert_exporter": "python",
   "pygments_lexer": "ipython3",
   "version": "3.9.5"
  },
  "orig_nbformat": 4
 },
 "nbformat": 4,
 "nbformat_minor": 2
}
