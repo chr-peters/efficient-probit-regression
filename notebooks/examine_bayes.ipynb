{
 "cells": [
  {
   "cell_type": "code",
   "execution_count": null,
   "metadata": {},
   "outputs": [],
   "source": [
    "import pandas as pd\n",
    "\n",
    "from efficient_probit_regression.datasets import Covertype, KDDCup\n",
    "from efficient_probit_regression import settings\n",
    "\n",
    "import plotly.graph_objects as go\n",
    "import plotly.express as px"
   ]
  },
  {
   "cell_type": "code",
   "execution_count": null,
   "metadata": {},
   "outputs": [],
   "source": [
    "# dataset = Covertype()\n",
    "dataset = KDDCup()"
   ]
  },
  {
   "cell_type": "code",
   "execution_count": null,
   "metadata": {},
   "outputs": [],
   "source": [
    "original_sample = pd.read_csv(settings.RESULTS_DIR_BAYES / f\"{dataset.get_name()}_sample_full.csv\")\n",
    "original_sample.shape"
   ]
  },
  {
   "cell_type": "code",
   "execution_count": null,
   "metadata": {},
   "outputs": [],
   "source": [
    "run_index = 1\n",
    "reduced_size = 15000\n",
    "\n",
    "df_list = []\n",
    "df_original = original_sample.melt()\n",
    "df_original[\"method\"] = \"original\"\n",
    "df_list.append(df_original)\n",
    "\n",
    "for cur_method in [\"uniform\", \"leverage\"]:\n",
    "    reduced_sample = pd.read_csv(settings.RESULTS_DIR_BAYES / f\"{dataset.get_name()}_sample_{cur_method}_run_{run_index}.csv\")\n",
    "    reduced_sample = reduced_sample.loc[reduced_sample[\"size\"] == reduced_size].drop([\"size\", \"run\", \"reduction_time_s\", \"total_time_s\"], axis=\"columns\").melt()\n",
    "    reduced_sample[\"method\"] = cur_method\n",
    "    df_list.append(reduced_sample)\n",
    "\n",
    "df = pd.concat(df_list, ignore_index=True)\n",
    "df.head()"
   ]
  },
  {
   "cell_type": "code",
   "execution_count": null,
   "metadata": {},
   "outputs": [],
   "source": [
    "beta_index = 0\n",
    "method = \"original\"\n",
    "# fig = px.line(df.loc[(df[\"variable\"] == f\"beta_{beta_index}\") & (df[\"method\"] == method)], y=\"value\")\n",
    "# fig.show()"
   ]
  },
  {
   "cell_type": "code",
   "execution_count": null,
   "metadata": {},
   "outputs": [],
   "source": [
    "fig = px.box(df, x=\"variable\", y=\"value\", color=\"method\")\n",
    "fig.update_layout(title=f\"{dataset.get_name()} coefficients, reduced_size={reduced_size}\")\n",
    "\n",
    "# fig.write_html(f\"report_coefficients_{reduced_size}.html\")\n",
    "\n",
    "fig.show()"
   ]
  }
 ],
 "metadata": {
  "interpreter": {
   "hash": "e0284716c2d9feae24d471a72af06f4ef95e7cd0d9511d4a7d509b7726f3ff9e"
  },
  "kernelspec": {
   "display_name": "Python 3.9.5 64-bit ('venv': venv)",
   "name": "python3"
  },
  "language_info": {
   "codemirror_mode": {
    "name": "ipython",
    "version": 3
   },
   "file_extension": ".py",
   "mimetype": "text/x-python",
   "name": "python",
   "nbconvert_exporter": "python",
   "pygments_lexer": "ipython3",
   "version": "3.9.5"
  }
 },
 "nbformat": 4,
 "nbformat_minor": 4
}
