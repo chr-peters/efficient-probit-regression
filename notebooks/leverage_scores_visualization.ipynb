{
 "cells": [
  {
   "cell_type": "code",
   "execution_count": null,
   "metadata": {},
   "outputs": [],
   "source": [
    "from efficient_probit_regression.sampling import compute_leverage_scores\n",
    "from efficient_probit_regression.datasets import Example2D\n",
    "from efficient_probit_regression import settings\n",
    "\n",
    "import seaborn as sns\n",
    "import matplotlib.pyplot as plt"
   ]
  },
  {
   "cell_type": "code",
   "execution_count": null,
   "metadata": {},
   "outputs": [],
   "source": [
    "dataset = Example2D()\n",
    "X = dataset.get_X()\n",
    "scores = compute_leverage_scores(X, p=2, fast_approx=False)\n",
    "\n",
    "plt.rcParams[\"text.usetex\"] = True\n",
    "plt.rc(\"font\", size=15)\n",
    "\n",
    "fig, ax = plt.subplots()\n",
    "\n",
    "sns.scatterplot(x=X[:,0], y=X[:, 1], hue=scores, ax=ax)\n",
    "\n",
    "ax.set_ylabel(\"$x_2$\")\n",
    "ax.set_xlabel(\"$x_1$\")\n",
    "\n",
    "ax.set_title(\"Visualization of the Leverage Scores\", fontsize=23)\n",
    "ax.legend(loc=\"lower right\", frameon=True, title=\"Score\")\n",
    "\n",
    "fig.tight_layout()\n",
    "\n",
    "fig.savefig(settings.PLOTS_DIR / \"leverage-scores-visualization.pdf\")\n",
    "\n",
    "fig.show()\n"
   ]
  }
 ],
 "metadata": {
  "interpreter": {
   "hash": "e0284716c2d9feae24d471a72af06f4ef95e7cd0d9511d4a7d509b7726f3ff9e"
  },
  "kernelspec": {
   "display_name": "Python 3.9.5 64-bit ('venv': venv)",
   "name": "python3"
  },
  "language_info": {
   "codemirror_mode": {
    "name": "ipython",
    "version": 3
   },
   "file_extension": ".py",
   "mimetype": "text/x-python",
   "name": "python",
   "nbconvert_exporter": "python",
   "pygments_lexer": "ipython3",
   "version": "3.9.5"
  },
  "orig_nbformat": 4
 },
 "nbformat": 4,
 "nbformat_minor": 2
}
