{
 "cells": [
  {
   "cell_type": "code",
   "execution_count": 1,
   "metadata": {},
   "outputs": [],
   "source": [
    "from efficient_probit_regression.datasets import KDDCup\n",
    "from efficient_probit_regression.sampling import _compute_leverage_scores_online_pinv, _compute_leverage_scores_online_solve"
   ]
  },
  {
   "cell_type": "code",
   "execution_count": 2,
   "metadata": {},
   "outputs": [
    {
     "name": "stderr",
     "output_type": "stream",
     "text": [
      "2021-07-02 14:54:54,966 - PID: 1780 - PName: MainProcess - INFO - Loading cached versions of X and y found at /home/peters/python/efficient-probit-regression/.data-cache/kddcup_X.npy and /home/peters/python/efficient-probit-regression/.data-cache/kddcup_y.npy...\n",
      "2021-07-02 14:54:55,318 - PID: 1780 - PName: MainProcess - INFO - Done.\n"
     ]
    }
   ],
   "source": [
    "dataset = KDDCup()\n",
    "X = dataset.get_X()"
   ]
  },
  {
   "cell_type": "code",
   "execution_count": 3,
   "metadata": {},
   "outputs": [
    {
     "name": "stdout",
     "output_type": "stream",
     "text": [
      "Timer unit: 1e-06 s\n",
      "\n",
      "Total time: 26.3756 s\n",
      "File: /home/peters/python/efficient-probit-regression/efficient_probit_regression/sampling.py\n",
      "Function: _compute_leverage_scores_online_pinv at line 62\n",
      "\n",
      "Line #      Hits         Time  Per Hit   % Time  Line Contents\n",
      "==============================================================\n",
      "    62                                           def _compute_leverage_scores_online_pinv(X: np.ndarray):\n",
      "    63         1          4.0      4.0      0.0      n = X.shape[0]\n",
      "    64         1          1.0      1.0      0.0      d = X.shape[1]\n",
      "    65                                           \n",
      "    66         1        362.0    362.0      0.0      M = np.zeros(shape=(d, d))\n",
      "    67         1          8.0      8.0      0.0      M_inv = np.zeros(shape=(d, d))\n",
      "    68         1          6.0      6.0      0.0      Q = np.zeros(shape=(d, d))\n",
      "    69                                           \n",
      "    70         1      18646.0  18646.0      0.1      X = X.astype(float)\n",
      "    71                                           \n",
      "    72         1          2.0      2.0      0.0      leverage_scores = []\n",
      "    73                                           \n",
      "    74    494022     357512.0      0.7      1.4      for i in range(n):\n",
      "    75    494021     527623.0      1.1      2.0          cur_row = X[i]\n",
      "    76    494021    6047180.0     12.2     22.9          outer = np.outer(cur_row, cur_row)\n",
      "    77    494021    1613301.0      3.3      6.1          M += outer\n",
      "    78    494021    3376330.0      6.8     12.8          if _check_norm_change(Q, cur_row):\n",
      "    79    493989    7846865.0     15.9     29.8              _fast_inv_update(M_inv, outer, cur_row)\n",
      "    80                                                   else:\n",
      "    81        32       8620.0    269.4      0.0              M_inv = np.linalg.pinv(M)\n",
      "    82        32       8230.0    257.2      0.0              Q = sp.linalg.orth(M)\n",
      "    83        32         43.0      1.3      0.0              r = Q.shape[1]\n",
      "    84        32         26.0      0.8      0.0              if r < d:\n",
      "    85        31        376.0     12.1      0.0                  Q = np.concatenate((Q, np.zeros((d, d - r))), axis=1)\n",
      "    86                                           \n",
      "    87    494021    3820684.0      7.7     14.5          cur_leverage_score = np.dot(cur_row, M_inv @ cur_row)\n",
      "    88    494021    2250758.0      4.6      8.5          cur_leverage_score = np.minimum(cur_leverage_score, 1)\n",
      "    89    494021     483792.0      1.0      1.8          leverage_scores.append(cur_leverage_score)\n",
      "    90                                           \n",
      "    91         1      15215.0  15215.0      0.1      return np.array(leverage_scores)"
     ]
    }
   ],
   "source": [
    "%lprun -f _compute_leverage_scores_online_pinv _compute_leverage_scores_online_pinv(X)"
   ]
  },
  {
   "cell_type": "code",
   "execution_count": 4,
   "metadata": {},
   "outputs": [
    {
     "name": "stdout",
     "output_type": "stream",
     "text": [
      "Timer unit: 1e-06 s\n",
      "\n",
      "Total time: 61.909 s\n",
      "File: /home/peters/python/efficient-probit-regression/efficient_probit_regression/sampling.py\n",
      "Function: _compute_leverage_scores_online_solve at line 94\n",
      "\n",
      "Line #      Hits         Time  Per Hit   % Time  Line Contents\n",
      "==============================================================\n",
      "    94                                           def _compute_leverage_scores_online_solve(X: np.ndarray):\n",
      "    95         1          3.0      3.0      0.0      n = X.shape[0]\n",
      "    96         1          1.0      1.0      0.0      d = X.shape[1]\n",
      "    97                                           \n",
      "    98         1         31.0     31.0      0.0      ATA = np.zeros(shape=(d, d))\n",
      "    99                                           \n",
      "   100         1          1.0      1.0      0.0      leverage_scores = []\n",
      "   101                                           \n",
      "   102    494022     475158.0      1.0      0.8      for i in range(n):\n",
      "   103    494021     730106.0      1.5      1.2          cur_row = X[i]\n",
      "   104    494021   12040731.0     24.4     19.4          ATA += np.outer(cur_row, cur_row)\n",
      "   105    494021     520766.0      1.1      0.8          try:\n",
      "   106    494021   43157910.0     87.4     69.7              cur_leverage_score = np.dot(cur_row, np.linalg.solve(ATA, cur_row))\n",
      "   107    494021    1017280.0      2.1      1.6              if cur_leverage_score < 0:\n",
      "   108                                                           cur_leverage_score = np.dot(\n",
      "   109                                                               cur_row, np.linalg.lstsq(ATA, cur_row, rcond=None)[0]\n",
      "   110                                                           )\n",
      "   111                                                   except np.linalg.LinAlgError:\n",
      "   112                                                       cur_leverage_score = np.dot(\n",
      "   113                                                           cur_row, np.linalg.lstsq(ATA, cur_row, rcond=None)[0]\n",
      "   114                                                       )\n",
      "   115    494021    3313865.0      6.7      5.4          cur_leverage_score = np.minimum(cur_leverage_score, 1)\n",
      "   116    494021     627161.0      1.3      1.0          leverage_scores.append(cur_leverage_score)\n",
      "   117                                           \n",
      "   118         1      26005.0  26005.0      0.0      return np.array(leverage_scores)"
     ]
    }
   ],
   "source": [
    "%lprun -f _compute_leverage_scores_online_solve _compute_leverage_scores_online_solve(X)"
   ]
  }
 ],
 "metadata": {
  "interpreter": {
   "hash": "d3307380142bd0d9ee15157aa1da5ccdecd2dcad986e3fbaeb540e49b07ab888"
  },
  "kernelspec": {
   "display_name": "Python 3.9.5 64-bit ('venv': venv)",
   "name": "python3"
  },
  "language_info": {
   "codemirror_mode": {
    "name": "ipython",
    "version": 3
   },
   "file_extension": ".py",
   "mimetype": "text/x-python",
   "name": "python",
   "nbconvert_exporter": "python",
   "pygments_lexer": "ipython3",
   "version": "3.9.5"
  },
  "orig_nbformat": 4
 },
 "nbformat": 4,
 "nbformat_minor": 2
}