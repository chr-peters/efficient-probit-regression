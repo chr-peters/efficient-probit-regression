{
 "cells": [
  {
   "cell_type": "code",
   "execution_count": null,
   "source": [
    "from efficient_probit_regression.datasets import Covertype, BaseDataset, KDDCup, Webspam\n",
    "\n",
    "import numpy as np\n",
    "import pandas as pd\n",
    "\n",
    "import plotly.express as px"
   ],
   "outputs": [],
   "metadata": {}
  },
  {
   "cell_type": "code",
   "execution_count": null,
   "source": [
    "def make_residual_df(dataset: BaseDataset, p_list: list):\n",
    "    X, y = dataset.get_X(), dataset.get_y()\n",
    "\n",
    "    df_list = []\n",
    "    for p in p_list:\n",
    "        cur_beta = dataset.get_beta_opt(p=p)\n",
    "        cur_residuals = X @ cur_beta\n",
    "        residuals_false = cur_residuals[cur_residuals * y < 0]\n",
    "        cur_df = pd.DataFrame()\n",
    "        cur_df[\"residual\"] = residuals_false\n",
    "        cur_df[\"p\"] = p\n",
    "        df_list.append(cur_df)\n",
    "\n",
    "    df = pd.concat(df_list, ignore_index=True)\n",
    "\n",
    "    return df"
   ],
   "outputs": [],
   "metadata": {}
  },
  {
   "cell_type": "code",
   "execution_count": null,
   "source": [
    "df = make_residual_df(Covertype(), p_list=[1, 1.5, 2, 5])\n",
    "fig = px.box(df, y=\"residual\", color=\"p\", title=\"Covertype\")\n",
    "fig.write_html(\"residuals_covertype.html\")\n",
    "fig.show()"
   ],
   "outputs": [],
   "metadata": {}
  },
  {
   "cell_type": "code",
   "execution_count": null,
   "source": [
    "df = make_residual_df(KDDCup(), p_list=[1, 1.5, 2, 5])\n",
    "fig = px.box(df, y=\"residual\", color=\"p\", title=\"KDDCup\")\n",
    "fig.write_html(\"residuals_kddcup.html\")\n",
    "fig.show()"
   ],
   "outputs": [],
   "metadata": {}
  },
  {
   "cell_type": "code",
   "execution_count": null,
   "source": [
    "df = make_residual_df(Webspam(), p_list=[1, 1.5, 2, 5])\n",
    "fig = px.box(df, y=\"residual\", color=\"p\", title=\"Webspam\")\n",
    "fig.write_html(\"residuals_webspam.html\")\n",
    "fig.show()"
   ],
   "outputs": [],
   "metadata": {}
  }
 ],
 "metadata": {
  "orig_nbformat": 4,
  "language_info": {
   "name": "python",
   "version": "3.9.5",
   "mimetype": "text/x-python",
   "codemirror_mode": {
    "name": "ipython",
    "version": 3
   },
   "pygments_lexer": "ipython3",
   "nbconvert_exporter": "python",
   "file_extension": ".py"
  },
  "kernelspec": {
   "name": "python3",
   "display_name": "Python 3.9.5 64-bit ('venv': venv)"
  },
  "interpreter": {
   "hash": "d3307380142bd0d9ee15157aa1da5ccdecd2dcad986e3fbaeb540e49b07ab888"
  }
 },
 "nbformat": 4,
 "nbformat_minor": 2
}