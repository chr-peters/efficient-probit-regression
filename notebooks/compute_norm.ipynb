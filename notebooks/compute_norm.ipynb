{
 "cells": [
  {
   "cell_type": "code",
   "execution_count": null,
   "source": [
    "from efficient_probit_regression.metrics import mmd, polynomial_kernel\n",
    "from efficient_probit_regression.datasets import Covertype\n",
    "from efficient_probit_regression import settings\n",
    "\n",
    "import matplotlib.pyplot as plt\n",
    "\n",
    "import pandas as pd\n",
    "import numpy as np\n",
    "\n",
    "from tqdm import tqdm"
   ],
   "outputs": [],
   "metadata": {}
  },
  {
   "cell_type": "code",
   "execution_count": null,
   "source": [
    "dataset = Covertype()\n",
    "\n",
    "# method = \"uniform\"\n",
    "# method = \"leverage\"\n",
    "method = \"leverage_online\""
   ],
   "outputs": [],
   "metadata": {}
  },
  {
   "cell_type": "code",
   "execution_count": null,
   "source": [
    "full_sample = pd.read_csv(settings.RESULTS_DIR_BAYES / f\"{dataset.get_name()}_sample_full.csv\").to_numpy()\n",
    "full_mean = np.mean(full_sample, axis=0)\n",
    "full_sample.shape"
   ],
   "outputs": [],
   "metadata": {}
  },
  {
   "cell_type": "code",
   "execution_count": null,
   "source": [
    "data_paths = settings.RESULTS_DIR_BAYES.glob(f\"{dataset.get_name()}_sample_{method}_run_*.csv\")\n",
    "\n",
    "rows = []\n",
    "for cur_path in data_paths:\n",
    "    print(cur_path)\n",
    "    cur_run = int(cur_path.stem.split(\"_\")[-1])\n",
    "    cur_df = pd.read_csv(cur_path)\n",
    "    for cur_size in tqdm(cur_df[\"size\"].unique()):\n",
    "        cur_sample = cur_df.loc[cur_df[\"size\"] == cur_size].drop([\"size\", \"run\"], axis=\"columns\").to_numpy()\n",
    "        cur_mean = np.mean(cur_sample, axis=0)\n",
    "        cur_norm = np.linalg.norm(full_mean - cur_mean)\n",
    "        rows.append({\"run\": cur_run, \"size\": cur_size, \"norm\": cur_norm})\n",
    "\n",
    "df = pd.DataFrame(rows)\n",
    "df"
   ],
   "outputs": [],
   "metadata": {}
  },
  {
   "cell_type": "code",
   "execution_count": null,
   "source": [
    "df.to_csv(settings.RESULTS_DIR_BAYES / f\"{dataset.get_name()}_norm_{method}.csv\", index=False)"
   ],
   "outputs": [],
   "metadata": {}
  }
 ],
 "metadata": {
  "orig_nbformat": 4,
  "language_info": {
   "name": "python",
   "version": "3.9.5",
   "mimetype": "text/x-python",
   "codemirror_mode": {
    "name": "ipython",
    "version": 3
   },
   "pygments_lexer": "ipython3",
   "nbconvert_exporter": "python",
   "file_extension": ".py"
  },
  "kernelspec": {
   "name": "python3",
   "display_name": "Python 3.9.5 64-bit ('venv': venv)"
  },
  "interpreter": {
   "hash": "d3307380142bd0d9ee15157aa1da5ccdecd2dcad986e3fbaeb540e49b07ab888"
  }
 },
 "nbformat": 4,
 "nbformat_minor": 2
}