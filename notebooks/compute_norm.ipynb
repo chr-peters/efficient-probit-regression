{
 "cells": [
  {
   "cell_type": "code",
   "execution_count": null,
   "metadata": {},
   "outputs": [],
   "source": [
    "from efficient_probit_regression.metrics import mmd, polynomial_kernel\n",
    "from efficient_probit_regression.datasets import Covertype, KDDCup, Webspam\n",
    "from efficient_probit_regression import settings\n",
    "\n",
    "import matplotlib.pyplot as plt\n",
    "\n",
    "import pandas as pd\n",
    "import numpy as np\n",
    "\n",
    "from tqdm import tqdm"
   ]
  },
  {
   "cell_type": "code",
   "execution_count": null,
   "metadata": {},
   "outputs": [],
   "source": [
    "# dataset = Covertype()\n",
    "# dataset = KDDCup()\n",
    "dataset = Webspam()\n",
    "\n",
    "method = \"uniform\"\n",
    "# method = \"leverage\"\n",
    "# method = \"leverage_online\""
   ]
  },
  {
   "cell_type": "code",
   "execution_count": null,
   "metadata": {},
   "outputs": [],
   "source": [
    "full_sample = pd.read_csv(settings.RESULTS_DIR_BAYES / f\"{dataset.get_name()}_sample_full.csv\").to_numpy()\n",
    "full_mean = np.mean(full_sample, axis=0)\n",
    "full_sample.shape"
   ]
  },
  {
   "cell_type": "code",
   "execution_count": null,
   "metadata": {},
   "outputs": [],
   "source": [
    "data_paths = settings.RESULTS_DIR_BAYES.glob(f\"{dataset.get_name()}_sample_{method}_run_*.csv\")\n",
    "\n",
    "rows = []\n",
    "for cur_path in data_paths:\n",
    "    print(cur_path)\n",
    "    cur_run = int(cur_path.stem.split(\"_\")[-1])\n",
    "    cur_df = pd.read_csv(cur_path)\n",
    "    for cur_size in tqdm(cur_df[\"size\"].unique()):\n",
    "        cur_sample = cur_df.loc[cur_df[\"size\"] == cur_size].drop([\"size\", \"run\", \"reduction_time_s\", \"total_time_s\"], axis=\"columns\").to_numpy()\n",
    "        cur_mean = np.mean(cur_sample, axis=0)\n",
    "        cur_norm = np.linalg.norm(full_mean - cur_mean)\n",
    "        rows.append({\"run\": cur_run, \"size\": cur_size, \"norm\": cur_norm})\n",
    "\n",
    "df = pd.DataFrame(rows)\n",
    "df"
   ]
  },
  {
   "cell_type": "code",
   "execution_count": null,
   "metadata": {},
   "outputs": [],
   "source": [
    "df.to_csv(settings.RESULTS_DIR_BAYES / f\"{dataset.get_name()}_norm_{method}.csv\", index=False)"
   ]
  }
 ],
 "metadata": {
  "interpreter": {
   "hash": "e0284716c2d9feae24d471a72af06f4ef95e7cd0d9511d4a7d509b7726f3ff9e"
  },
  "kernelspec": {
   "display_name": "Python 3.9.5 64-bit ('venv': venv)",
   "name": "python3"
  },
  "language_info": {
   "codemirror_mode": {
    "name": "ipython",
    "version": 3
   },
   "file_extension": ".py",
   "mimetype": "text/x-python",
   "name": "python",
   "nbconvert_exporter": "python",
   "pygments_lexer": "ipython3",
   "version": "3.9.5"
  },
  "orig_nbformat": 4
 },
 "nbformat": 4,
 "nbformat_minor": 2
}
