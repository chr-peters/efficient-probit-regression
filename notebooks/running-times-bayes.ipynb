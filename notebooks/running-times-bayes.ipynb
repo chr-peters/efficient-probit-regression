{
 "cells": [
  {
   "cell_type": "code",
   "execution_count": null,
   "metadata": {},
   "outputs": [],
   "source": [
    "from efficient_probit_regression.datasets import Covertype, KDDCup, Webspam\n",
    "from efficient_probit_regression import settings\n",
    "\n",
    "from efficient_probit_regression.sampling import gibbs_sampler_probit\n",
    "\n",
    "from time import perf_counter\n",
    "\n",
    "import pandas as pd\n",
    "\n",
    "import numpy as np"
   ]
  },
  {
   "cell_type": "code",
   "execution_count": null,
   "metadata": {},
   "outputs": [],
   "source": [
    "def get_runtimes(dataset, method, size):\n",
    "\n",
    "    runtimes = np.array([])\n",
    "    for run in [1, 2, 3, 4, 5]:\n",
    "        df = (\n",
    "            pd.read_csv(settings.RESULTS_DIR_BAYES / f\"{dataset.get_name()}_sample_{method}_run_{run}.csv\")\n",
    "            # .filter([\"size\", \"total_time_s\"])\n",
    "            .filter([\"size\", \"total_time_s\", \"reduction_time_s\"])\n",
    "            .query(\"size == @size\")\n",
    "        )\n",
    "        runtimes = np.append(runtimes, (df[\"total_time_s\"] - df[\"reduction_time_s\"]).median())\n",
    "\n",
    "    return runtimes\n",
    "\n",
    "runtimes = get_runtimes(Webspam(), method=\"uniform\", size=1000)\n",
    "print(runtimes)\n",
    "\n",
    "samples_per_second = (3000 + 1000) / runtimes\n",
    "# samples_per_second = (2000 + 1000) / runtimes\n",
    "# samples_per_second = (200 + 1000) / runtimes\n",
    "print(samples_per_second)\n",
    "\n",
    "np.median(samples_per_second)"
   ]
  },
  {
   "cell_type": "code",
   "execution_count": null,
   "metadata": {},
   "outputs": [],
   "source": [
    "# dataset = Webspam()\n",
    "\n",
    "# X = dataset.get_X()\n",
    "# y = dataset.get_y()\n",
    "\n",
    "# prior_mean = np.zeros(dataset.get_d())\n",
    "# prior_cov = 10 * np.eye(dataset.get_d())\n",
    "\n",
    "# start_time = perf_counter()\n",
    "\n",
    "# gibbs_sampler_probit(X, y, prior_mean=prior_mean, prior_cov=prior_cov, num_samples=1000, num_chains=1, burn_in=0)\n",
    "\n",
    "# end_time = perf_counter()\n",
    "\n",
    "\n",
    "# print(end_time - start_time)"
   ]
  }
 ],
 "metadata": {
  "interpreter": {
   "hash": "e0284716c2d9feae24d471a72af06f4ef95e7cd0d9511d4a7d509b7726f3ff9e"
  },
  "kernelspec": {
   "display_name": "Python 3.9.5 64-bit ('venv': venv)",
   "name": "python3"
  },
  "language_info": {
   "codemirror_mode": {
    "name": "ipython",
    "version": 3
   },
   "file_extension": ".py",
   "mimetype": "text/x-python",
   "name": "python",
   "nbconvert_exporter": "python",
   "pygments_lexer": "ipython3",
   "version": "3.9.5"
  },
  "orig_nbformat": 4
 },
 "nbformat": 4,
 "nbformat_minor": 2
}
