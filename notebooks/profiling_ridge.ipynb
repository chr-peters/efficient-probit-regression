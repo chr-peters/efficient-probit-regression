{
 "cells": [
  {
   "cell_type": "code",
   "execution_count": 1,
   "metadata": {},
   "outputs": [],
   "source": [
    "from efficient_probit_regression.datasets import KDDCup\n",
    "from efficient_probit_regression.sampling import online_ridge_leverage_score_sampling"
   ]
  },
  {
   "cell_type": "code",
   "execution_count": 2,
   "metadata": {},
   "outputs": [],
   "source": [
    "dataset = KDDCup()"
   ]
  },
  {
   "cell_type": "code",
   "execution_count": 3,
   "metadata": {},
   "outputs": [
    {
     "name": "stderr",
     "output_type": "stream",
     "text": [
      "2021-06-22 11:50:22,103 - PID: 15193 - PName: MainProcess - INFO - Loading cached versions of X and y found at /home/peters/python/efficient-probit-regression/.data-cache/kddcup_X.npy and /home/peters/python/efficient-probit-regression/.data-cache/kddcup_y.npy...\n",
      "2021-06-22 11:50:22,205 - PID: 15193 - PName: MainProcess - INFO - Done.\n"
     ]
    },
    {
     "name": "stdout",
     "output_type": "stream",
     "text": [
      "Timer unit: 1e-06 s\n",
      "\n",
      "Total time: 49.9567 s\n",
      "File: /home/peters/python/efficient-probit-regression/efficient_probit_regression/sampling.py\n",
      "Function: online_ridge_leverage_score_sampling at line 133\n",
      "\n",
      "Line #      Hits         Time  Per Hit   % Time  Line Contents\n",
      "==============================================================\n",
      "   133                                           def online_ridge_leverage_score_sampling(\n",
      "   134                                               X: np.ndarray,\n",
      "   135                                               y: np.ndarray,\n",
      "   136                                               sample_size: int,\n",
      "   137                                               augmentation_constant: float = None,\n",
      "   138                                               lambda_ridge: float = 1e-6,\n",
      "   139                                           ):\n",
      "   140                                               \"\"\"\n",
      "   141                                               Sample X and y proportional to the online ridge leverage scores.\n",
      "   142                                               \"\"\"\n",
      "   143         1          3.0      3.0      0.0      n, d = X.shape\n",
      "   144                                           \n",
      "   145         1         84.0     84.0      0.0      ATA_ridge = lambda_ridge * np.eye(d)\n",
      "   146                                           \n",
      "   147         1         21.0     21.0      0.0      sampler = ReservoirSampler(sample_size=sample_size, d=d)\n",
      "   148                                           \n",
      "   149                                               # the remaining samples\n",
      "   150    494022     507392.0      1.0      1.0      for i in range(n):\n",
      "   151    494021     755827.0      1.5      1.5          cur_row = X[i]\n",
      "   152    494021     597654.0      1.2      1.2          cur_label = y[i]\n",
      "   153                                           \n",
      "   154    494021   40005940.0     81.0     80.1          cur_ridge_leverage_score = _fast_leverage_score(cur_row, ATA_ridge)\n",
      "   155    494021    2606451.0      5.3      5.2          cur_weight = np.minimum(cur_ridge_leverage_score, 1)\n",
      "   156                                           \n",
      "   157    494021     492901.0      1.0      1.0          if augmentation_constant is not None:\n",
      "   158                                                       cur_weight += augmentation_constant\n",
      "   159                                           \n",
      "   160    494021    4078200.0      8.3      8.2          sampler.insert_record(row=cur_row, label=cur_label, weight=cur_weight)\n",
      "   161                                           \n",
      "   162    494021     838369.0      1.7      1.7          if sampler.was_last_record_sampled():\n",
      "   163      3681      73865.0     20.1      0.1              ATA_ridge += cur_row[:, np.newaxis] @ cur_row[np.newaxis, :]\n",
      "   164                                           \n",
      "   165         1          5.0      5.0      0.0      X_sample, y_sample = sampler.get_sample()\n",
      "   166         1         24.0     24.0      0.0      return X_sample, y_sample, np.ones(y_sample.shape)"
     ]
    }
   ],
   "source": [
    "%lprun -f online_ridge_leverage_score_sampling online_ridge_leverage_score_sampling(X=dataset.get_X(), y=dataset.get_y(), sample_size=1000)"
   ]
  }
 ],
 "metadata": {
  "interpreter": {
   "hash": "d3307380142bd0d9ee15157aa1da5ccdecd2dcad986e3fbaeb540e49b07ab888"
  },
  "kernelspec": {
   "display_name": "Python 3.9.5 64-bit ('venv': venv)",
   "name": "python3"
  },
  "language_info": {
   "codemirror_mode": {
    "name": "ipython",
    "version": 3
   },
   "file_extension": ".py",
   "mimetype": "text/x-python",
   "name": "python",
   "nbconvert_exporter": "python",
   "pygments_lexer": "ipython3",
   "version": "3.9.5"
  },
  "orig_nbformat": 4
 },
 "nbformat": 4,
 "nbformat_minor": 2
}