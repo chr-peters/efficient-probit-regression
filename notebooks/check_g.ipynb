{
 "cells": [
  {
   "cell_type": "code",
   "execution_count": null,
   "source": [
    "from efficient_probit_regression.probit_model import _g, _g_replacement, _g_orig, _g_grad_orig, _g_grad_replacement, _g_grad, p_gen_norm_pdf\n",
    "from scipy.stats import gennorm, norm\n",
    "\n",
    "import numpy as np\n",
    "\n",
    "import pandas as pd\n",
    "\n",
    "import plotly.express as px"
   ],
   "outputs": [],
   "metadata": {}
  },
  {
   "cell_type": "code",
   "execution_count": null,
   "source": [
    "x = np.arange(0, 20, 0.01)\n",
    "_g(x, p=3)"
   ],
   "outputs": [],
   "metadata": {}
  },
  {
   "cell_type": "code",
   "execution_count": null,
   "source": [
    "x = np.arange(-3, 3, 0.01)\n",
    "df = pd.DataFrame()\n",
    "df[\"x\"] = x\n",
    "for p in [1/2, 1, 2, 100]:\n",
    "    df[f\"p={p}\"] = p_gen_norm_pdf(x, p)\n",
    "\n",
    "fig = px.line(df.melt(id_vars=[\"x\"]), x=\"x\", y=\"value\", color=\"variable\")\n",
    "fig.show()\n",
    "# df.melt(id_vars=[\"x\"])"
   ],
   "outputs": [],
   "metadata": {}
  },
  {
   "cell_type": "code",
   "execution_count": null,
   "source": [
    "def g_probit(z):\n",
    "    return -np.log(norm.cdf(-z))\n",
    "\n",
    "def lower_new(z, p):\n",
    "    return 1 / p * np.power(z, p)"
   ],
   "outputs": [],
   "metadata": {}
  },
  {
   "cell_type": "code",
   "execution_count": null,
   "source": [
    "x = np.arange(-5, 100, 0.1)\n",
    "\n",
    "p = 2\n",
    "\n",
    "df = pd.DataFrame()\n",
    "df[\"x\"] = x\n",
    "df[\"g\"] = _g_orig(x, p)\n",
    "# df[\"g_probit\"] = g_probit(x)\n",
    "df[\"g_replacement\"] = _g_replacement(x, p)\n",
    "df[\"g_adapted\"] = _g(x, p)\n",
    "df[\"g_grad\"] = _g_grad_orig(x, p)\n",
    "df[\"g_grad_replacement\"] = _g_grad_replacement(x, p)\n",
    "df[\"g_grad_adapted\"] = _g_grad(x, p)\n",
    "df = df.melt(id_vars=[\"x\"])\n",
    "df.head()"
   ],
   "outputs": [],
   "metadata": {}
  },
  {
   "cell_type": "code",
   "execution_count": null,
   "source": [
    "fig = px.line(df, x=\"x\", y=\"value\", color=\"variable\")\n",
    "fig.show()"
   ],
   "outputs": [],
   "metadata": {}
  },
  {
   "cell_type": "code",
   "execution_count": null,
   "source": [],
   "outputs": [],
   "metadata": {}
  }
 ],
 "metadata": {
  "orig_nbformat": 4,
  "language_info": {
   "name": "python",
   "version": "3.9.5",
   "mimetype": "text/x-python",
   "codemirror_mode": {
    "name": "ipython",
    "version": 3
   },
   "pygments_lexer": "ipython3",
   "nbconvert_exporter": "python",
   "file_extension": ".py"
  },
  "kernelspec": {
   "name": "python3",
   "display_name": "Python 3.9.5 64-bit ('venv': venv)"
  },
  "interpreter": {
   "hash": "d3307380142bd0d9ee15157aa1da5ccdecd2dcad986e3fbaeb540e49b07ab888"
  }
 },
 "nbformat": 4,
 "nbformat_minor": 2
}