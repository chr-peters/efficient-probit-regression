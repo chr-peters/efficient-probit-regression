{
 "cells": [
  {
   "cell_type": "code",
   "execution_count": 1,
   "source": [
    "from efficient_probit_regression.datasets import Covertype\n",
    "from efficient_probit_regression.sampling import gibbs_sampler_probit\n",
    "from efficient_probit_regression import settings\n",
    "\n",
    "import numpy as np\n",
    "import plotly.graph_objects as go\n",
    "import pandas as pd"
   ],
   "outputs": [],
   "metadata": {}
  },
  {
   "cell_type": "code",
   "execution_count": null,
   "source": [
    "dataset = Covertype()\n",
    "X = dataset.get_X()\n",
    "y = dataset.get_y()\n",
    "n = dataset.get_n()\n",
    "d = dataset.get_d()"
   ],
   "outputs": [],
   "metadata": {}
  },
  {
   "cell_type": "code",
   "execution_count": null,
   "source": [
    "prior_mean = np.zeros(d)\n",
    "prior_cov = 10 * np.eye(d)\n",
    "\n",
    "sample = gibbs_sampler_probit(\n",
    "    X=X,\n",
    "    y=y,\n",
    "    prior_mean=prior_mean,\n",
    "    prior_cov=prior_cov,\n",
    "    num_samples=10000,\n",
    "    num_chains=1,\n",
    "    burn_in=100\n",
    ")"
   ],
   "outputs": [],
   "metadata": {}
  },
  {
   "cell_type": "code",
   "execution_count": null,
   "source": [
    "path = settings.RESULTS_DIR_BAYES / f\"{dataset.get_name()}_full_sample.csv\""
   ],
   "outputs": [],
   "metadata": {}
  },
  {
   "cell_type": "code",
   "execution_count": null,
   "source": [
    "df = pd.DataFrame(sample, columns=[f\"beta_{i}\" for i in range(d)])\n",
    "df.to_csv(path, index=False)"
   ],
   "outputs": [],
   "metadata": {}
  }
 ],
 "metadata": {
  "orig_nbformat": 4,
  "language_info": {
   "name": "python",
   "version": "3.9.5",
   "mimetype": "text/x-python",
   "codemirror_mode": {
    "name": "ipython",
    "version": 3
   },
   "pygments_lexer": "ipython3",
   "nbconvert_exporter": "python",
   "file_extension": ".py"
  },
  "kernelspec": {
   "name": "python3",
   "display_name": "Python 3.9.5 64-bit ('venv': venv)"
  },
  "interpreter": {
   "hash": "d3307380142bd0d9ee15157aa1da5ccdecd2dcad986e3fbaeb540e49b07ab888"
  }
 },
 "nbformat": 4,
 "nbformat_minor": 2
}