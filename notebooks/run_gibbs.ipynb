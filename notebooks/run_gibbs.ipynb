{
 "cells": [
  {
   "cell_type": "code",
   "execution_count": null,
   "source": [
    "from efficient_probit_regression.datasets import Covertype\n",
    "from efficient_probit_regression.sampling import gibbs_sampler_probit\n",
    "from efficient_probit_regression import settings\n",
    "\n",
    "import numpy as np\n",
    "import plotly.graph_objects as go\n",
    "import pandas as pd"
   ],
   "outputs": [],
   "metadata": {}
  },
  {
   "cell_type": "code",
   "execution_count": null,
   "source": [
    "dataset = Covertype()\n",
    "X = dataset.get_X()\n",
    "y = dataset.get_y()\n",
    "n = dataset.get_n()\n",
    "d = dataset.get_d()\n",
    "beta_opt = dataset.get_beta_opt()"
   ],
   "outputs": [],
   "metadata": {}
  },
  {
   "cell_type": "code",
   "execution_count": null,
   "source": [
    "prior_mean = np.zeros(d)\n",
    "prior_cov = 10 * np.eye(d)\n",
    "\n",
    "sample = gibbs_sampler_probit(\n",
    "    X=X,\n",
    "    y=y,\n",
    "    prior_mean=prior_mean,\n",
    "    prior_cov=prior_cov,\n",
    "    num_samples=2500,\n",
    "    num_chains=4,\n",
    "    burn_in=100\n",
    ")"
   ],
   "outputs": [],
   "metadata": {}
  },
  {
   "cell_type": "code",
   "execution_count": null,
   "source": [
    "path = settings.RESULTS_DIR / f\"{dataset.get_name()}_full_sample.csv\""
   ],
   "outputs": [],
   "metadata": {}
  },
  {
   "cell_type": "code",
   "execution_count": null,
   "source": [
    "df = pd.DataFrame(sample, columns=[f\"beta_{i}\" for i in range(d)])\n",
    "df.to_csv(path, index=False)"
   ],
   "outputs": [],
   "metadata": {}
  },
  {
   "cell_type": "code",
   "execution_count": null,
   "source": [
    "sample = pd.read_csv(path).to_numpy()"
   ],
   "outputs": [],
   "metadata": {}
  },
  {
   "cell_type": "code",
   "execution_count": null,
   "source": [
    "# for i in range(d):\n",
    "i = 0\n",
    "fig = go.Figure()\n",
    "fig.add_trace(go.Scatter(\n",
    "    x = np.arange(start=0, stop=sample.shape[0]),\n",
    "    y = sample[:,i],\n",
    "    mode = \"lines+markers\"\n",
    "))\n",
    "fig.update_layout(title=f\"{dataset.get_name()} plot for beta_{i}, MLE estimate is {beta_opt[i]}\")\n",
    "fig.show()"
   ],
   "outputs": [],
   "metadata": {}
  }
 ],
 "metadata": {
  "orig_nbformat": 4,
  "language_info": {
   "name": "python",
   "version": "3.9.5",
   "mimetype": "text/x-python",
   "codemirror_mode": {
    "name": "ipython",
    "version": 3
   },
   "pygments_lexer": "ipython3",
   "nbconvert_exporter": "python",
   "file_extension": ".py"
  },
  "kernelspec": {
   "name": "python3",
   "display_name": "Python 3.9.5 64-bit ('venv': venv)"
  },
  "interpreter": {
   "hash": "d3307380142bd0d9ee15157aa1da5ccdecd2dcad986e3fbaeb540e49b07ab888"
  }
 },
 "nbformat": 4,
 "nbformat_minor": 2
}