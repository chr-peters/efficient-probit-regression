{
 "cells": [
  {
   "cell_type": "code",
   "execution_count": null,
   "metadata": {},
   "outputs": [],
   "source": [
    "from efficient_probit_regression.datasets import Covertype, KDDCup, Webspam\n",
    "from efficient_probit_regression.sampling import gibbs_sampler_probit\n",
    "from efficient_probit_regression import settings\n",
    "\n",
    "import numpy as np\n",
    "import plotly.graph_objects as go\n",
    "import plotly.express as px\n",
    "import pandas as pd"
   ]
  },
  {
   "cell_type": "code",
   "execution_count": null,
   "metadata": {},
   "outputs": [],
   "source": [
    "# dataset = Covertype()\n",
    "# dataset = KDDCup()\n",
    "dataset = Webspam()\n",
    "\n",
    "X = dataset.get_X()\n",
    "y = dataset.get_y()\n",
    "n = dataset.get_n()\n",
    "d = dataset.get_d()"
   ]
  },
  {
   "cell_type": "code",
   "execution_count": null,
   "metadata": {},
   "outputs": [],
   "source": [
    "prior_mean = np.zeros(d)\n",
    "prior_cov = 10 * np.eye(d)\n",
    "\n",
    "sample = gibbs_sampler_probit(\n",
    "    X=X,\n",
    "    y=y,\n",
    "    prior_mean=prior_mean,\n",
    "    prior_cov=prior_cov,\n",
    "    num_samples=10000,\n",
    "    num_chains=1,\n",
    "    # burn_in=2000 # 2000 for kddcup\n",
    "    burn_in=3000 # 3000 for webspam\n",
    ")"
   ]
  },
  {
   "cell_type": "code",
   "execution_count": null,
   "metadata": {},
   "outputs": [],
   "source": [
    "path = settings.RESULTS_DIR_BAYES / f\"{dataset.get_name()}_sample_full.csv\""
   ]
  },
  {
   "cell_type": "code",
   "execution_count": null,
   "metadata": {},
   "outputs": [],
   "source": [
    "df = pd.DataFrame(sample, columns=[f\"beta_{i}\" for i in range(d)])\n",
    "df.to_csv(path, index=False)"
   ]
  },
  {
   "cell_type": "code",
   "execution_count": null,
   "metadata": {},
   "outputs": [],
   "source": [
    "fig = px.line(y=df[\"beta_0\"])\n",
    "fig.show()"
   ]
  }
 ],
 "metadata": {
  "interpreter": {
   "hash": "e0284716c2d9feae24d471a72af06f4ef95e7cd0d9511d4a7d509b7726f3ff9e"
  },
  "kernelspec": {
   "display_name": "Python 3.9.5 64-bit ('venv': venv)",
   "name": "python3"
  },
  "language_info": {
   "codemirror_mode": {
    "name": "ipython",
    "version": 3
   },
   "file_extension": ".py",
   "mimetype": "text/x-python",
   "name": "python",
   "nbconvert_exporter": "python",
   "pygments_lexer": "ipython3",
   "version": "3.9.5"
  },
  "orig_nbformat": 4
 },
 "nbformat": 4,
 "nbformat_minor": 2
}
