{
 "cells": [
  {
   "cell_type": "code",
   "execution_count": null,
   "source": [
    "from efficient_probit_regression.datasets import Covertype\n",
    "from efficient_probit_regression.sampling import leverage_score_sampling, truncated_normal\n",
    "from scipy.stats import multivariate_normal, norm, truncnorm\n",
    "\n",
    "import plotly.express as px\n",
    "\n",
    "import numpy as np\n",
    "import pandas as pd\n",
    "\n",
    "from tqdm import tqdm"
   ],
   "outputs": [],
   "metadata": {}
  },
  {
   "cell_type": "code",
   "execution_count": null,
   "source": [
    "def gibbs_sampler_probit(\n",
    "    X: np.ndarray,\n",
    "    y: np.ndarray,\n",
    "    prior_mean: np.ndarray,\n",
    "    prior_cov: np.ndarray,\n",
    "    num_samples,\n",
    "    num_chains,\n",
    "    burn_in=100,\n",
    "    probabilities=None,\n",
    "    original_size=None\n",
    "):\n",
    "    n, d = X.shape\n",
    "\n",
    "    if probabilities is None:\n",
    "        probabilities = np.full(n, 1 / n)\n",
    "\n",
    "    factor_squared = 1 / (probabilities * n)\n",
    "\n",
    "    prior_cov_inv = np.linalg.inv(prior_cov)\n",
    "    B = np.linalg.inv(prior_cov_inv + X.T @ np.multiply(X, factor_squared[:, np.newaxis]))\n",
    "\n",
    "    beta_start = np.zeros(d)  # TODO: set this to the MLE\n",
    "\n",
    "    def simulate_chain():\n",
    "        beta = beta_start\n",
    "        samples = []\n",
    "        for i in tqdm(range(num_samples + burn_in)):\n",
    "            a = np.where(y == -1, -np.inf, 0)\n",
    "            b = np.where(y == -1, 0, np.inf)\n",
    "\n",
    "            # sample latent variables\n",
    "            latent_mean = X @ beta\n",
    "            # latent_mean = np.ones(n)\n",
    "            # latent_mean = np.zeros(n)\n",
    "            latent = truncated_normal(\n",
    "                a,\n",
    "                b,\n",
    "                mean=latent_mean,\n",
    "                std=1,\n",
    "                size=n,\n",
    "            )\n",
    "            # latent = np.zeros(n)\n",
    "            # latent = 2 * np.ones(n)\n",
    "\n",
    "            beta_mean = B @ (prior_cov_inv @ prior_mean + X.T @ (latent * factor_squared))\n",
    "            beta = multivariate_normal.rvs(size=1, mean=beta_mean, cov=B)\n",
    "\n",
    "            samples.append(beta)\n",
    "\n",
    "        return np.array(samples[burn_in:])\n",
    "\n",
    "    if num_chains == 1:\n",
    "        samples = simulate_chain()\n",
    "    # else:\n",
    "    #     sample_chunks = Parallel(n_jobs=num_chains)(\n",
    "    #         delayed(simulate_chain)() for i in range(num_chains)\n",
    "    #     )\n",
    "    #     samples = np.vstack(sample_chunks)\n",
    "\n",
    "    return samples"
   ],
   "outputs": [],
   "metadata": {}
  },
  {
   "cell_type": "code",
   "execution_count": null,
   "source": [
    "dataset = Covertype()\n",
    "\n",
    "prior_mean = np.zeros(dataset.get_d())\n",
    "prior_cov = 10 * np.eye(dataset.get_d())"
   ],
   "outputs": [],
   "metadata": {}
  },
  {
   "cell_type": "code",
   "execution_count": null,
   "source": [
    "num_samples_gibbs = 1000\n",
    "sample_original = gibbs_sampler_probit(\n",
    "    X=dataset.get_X(),\n",
    "    y=dataset.get_y(),\n",
    "    prior_mean=prior_mean,\n",
    "    prior_cov=prior_cov,\n",
    "    num_samples=num_samples_gibbs,\n",
    "    num_chains=1, \n",
    "    probabilities=None, \n",
    "    original_size=dataset.get_n()\n",
    ")"
   ],
   "outputs": [],
   "metadata": {}
  },
  {
   "cell_type": "code",
   "execution_count": null,
   "source": [
    "sample_size = 500\n",
    "X_reduced, y_reduced, weights = leverage_score_sampling(\n",
    "    X = dataset.get_X(),\n",
    "    y = dataset.get_y(), \n",
    "    sample_size = sample_size, \n",
    "    augmented = True, \n",
    "    online = False, \n",
    "    round_up = True\n",
    ")\n",
    "\n",
    "probabilities = 1 / (weights * sample_size)\n",
    "sample_reduced = gibbs_sampler_probit(\n",
    "    X=X_reduced,\n",
    "    y=y_reduced,\n",
    "    prior_mean=prior_mean,\n",
    "    prior_cov=prior_cov,\n",
    "    num_samples=num_samples_gibbs,\n",
    "    num_chains=1, \n",
    "    probabilities=probabilities, \n",
    "    original_size=dataset.get_n()\n",
    ")"
   ],
   "outputs": [],
   "metadata": {}
  },
  {
   "cell_type": "code",
   "execution_count": null,
   "source": [
    "df_original = pd.DataFrame(sample_original)\n",
    "df_original[\"method\"] = \"original\"\n",
    "df_original[\"sample_index\"] = list(range(num_samples_gibbs))\n",
    "\n",
    "df_reduced = pd.DataFrame(sample_reduced)\n",
    "df_reduced[\"method\"] = \"reduced\"\n",
    "df_reduced[\"sample_index\"] = list(range(num_samples_gibbs))\n",
    "\n",
    "df = pd.concat([df_original, df_reduced], ignore_index=True)\n",
    "\n",
    "beta_index = 0\n",
    "fig = px.line(df, x = \"sample_index\", y=beta_index, color=\"method\", title=f\"beta_{beta_index}\")\n",
    "fig.show()"
   ],
   "outputs": [],
   "metadata": {}
  },
  {
   "cell_type": "code",
   "execution_count": null,
   "source": [
    "index = 0\n",
    "\n",
    "print(np.var(df_original[index]))\n",
    "print(np.var(df_reduced[index]))\n",
    "\n",
    "print(np.mean(df_original[index]))\n",
    "print(np.mean(df_reduced[index]))"
   ],
   "outputs": [],
   "metadata": {}
  },
  {
   "cell_type": "code",
   "execution_count": null,
   "source": [
    "df_melted = df.melt(id_vars=[\"method\"])\n",
    "df_melted.head()\n",
    "\n",
    "fig = px.box(df_melted, x=\"variable\", y=\"value\", color=\"method\")\n",
    "fig.show()"
   ],
   "outputs": [],
   "metadata": {}
  }
 ],
 "metadata": {
  "orig_nbformat": 4,
  "language_info": {
   "name": "python",
   "version": "3.9.5",
   "mimetype": "text/x-python",
   "codemirror_mode": {
    "name": "ipython",
    "version": 3
   },
   "pygments_lexer": "ipython3",
   "nbconvert_exporter": "python",
   "file_extension": ".py"
  },
  "kernelspec": {
   "name": "python3",
   "display_name": "Python 3.9.5 64-bit ('venv': venv)"
  },
  "interpreter": {
   "hash": "d3307380142bd0d9ee15157aa1da5ccdecd2dcad986e3fbaeb540e49b07ab888"
  }
 },
 "nbformat": 4,
 "nbformat_minor": 2
}