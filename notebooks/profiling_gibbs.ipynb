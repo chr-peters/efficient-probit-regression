{
    "cells": [
        {
            "cell_type": "code",
            "execution_count": 1,
            "source": [
                "from sklearn.datasets import load_iris\n",
                "from efficient_probit_regression.sampling import gibbs_sampler_probit, _draw_gibbs_sample\n",
                "import numpy as np"
            ],
            "outputs": [],
            "metadata": {}
        },
        {
            "cell_type": "code",
            "execution_count": 2,
            "source": [
                "X, y = load_iris(return_X_y=True)\n",
                "d = X.shape[1]\n",
                "y = np.where(y==1, 1, -1)"
            ],
            "outputs": [],
            "metadata": {}
        },
        {
            "cell_type": "code",
            "execution_count": 3,
            "source": [
                "%lprun -f _draw_gibbs_sample gibbs_sampler_probit(X, y, prior_mean=np.zeros(d), prior_cov=np.eye(d), num_samples=1000, num_chains=1)"
            ],
            "outputs": [
                {
                    "output_type": "stream",
                    "name": "stdout",
                    "text": [
                        "Timer unit: 1e-06 s\n",
                        "\n",
                        "Total time: 3.63978 s\n",
                        "File: /home/peters/python/efficient-probit-regression/efficient_probit_regression/sampling.py\n",
                        "Function: _draw_gibbs_sample at line 385\n",
                        "\n",
                        "Line #      Hits         Time  Per Hit   % Time  Line Contents\n",
                        "==============================================================\n",
                        "   385                                           def _draw_gibbs_sample(X, y, prior_mean, prior_cov_inv, B, latent):\n",
                        "   386      1100      11493.0     10.4      0.3      beta_mean = B @ (prior_cov_inv @ prior_mean + X.T @ latent)\n",
                        "   387      1100     229388.0    208.5      6.3      beta = multivariate_normal.rvs(size=1, mean=beta_mean, cov=B)\n",
                        "   388                                           \n",
                        "   389      1100      11509.0     10.5      0.3      a = np.where(y == -1, -np.inf, 0)\n",
                        "   390      1100       7398.0      6.7      0.2      b = np.where(y == -1, 0, np.inf)\n",
                        "   391      1100       4709.0      4.3      0.1      latent_mean = X @ beta\n",
                        "   392      2200    3370390.0   1532.0     92.6      latent = truncated_normal(\n",
                        "   393      1100        655.0      0.6      0.0          a,\n",
                        "   394      1100        617.0      0.6      0.0          b,\n",
                        "   395      1100        580.0      0.5      0.0          mean=latent_mean,\n",
                        "   396      1100        622.0      0.6      0.0          std=1,\n",
                        "   397      1100       1051.0      1.0      0.0          size=latent.shape[0],\n",
                        "   398                                               )\n",
                        "   399                                           \n",
                        "   400      1100       1368.0      1.2      0.0      return beta, latent"
                    ]
                }
            ],
            "metadata": {}
        }
    ],
    "metadata": {
        "orig_nbformat": 4,
        "language_info": {
            "name": "python"
        }
    },
    "nbformat": 4,
    "nbformat_minor": 2
}